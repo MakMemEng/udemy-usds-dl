{
 "cells": [
  {
   "cell_type": "markdown",
   "id": "15df93e5-af75-4039-953e-68283057ba53",
   "metadata": {},
   "source": [
    "##　SaveとLoad"
   ]
  },
  {
   "cell_type": "code",
   "execution_count": 1,
   "id": "0bb6ae3d-7d36-450d-8f74-2268ea3d8294",
   "metadata": {},
   "outputs": [],
   "source": [
    "import torchvision\n",
    "import torch\n",
    "from torchvision import transforms\n",
    "from torch.utils.data import DataLoader\n",
    "import matplotlib.pyplot as plt\n",
    "import numpy as np\n",
    "from torch import optim, nn\n",
    "from torch.nn import functional as F\n",
    "from torch.utils.data import Dataset\n",
    "from sklearn import datasets\n",
    "from sklearn.model_selection import train_test_split"
   ]
  },
  {
   "cell_type": "markdown",
   "id": "700c1794-ad57-4065-b69a-78eef8f7c6f7",
   "metadata": {},
   "source": [
    "### early stopping"
   ]
  },
  {
   "cell_type": "code",
   "execution_count": 2,
   "id": "11763283-d5d7-47ed-9f5f-4817f5c32468",
   "metadata": {},
   "outputs": [],
   "source": [
    "class MyDataset(Dataset):\n",
    "    def __init__(self, X, y, transform=None):\n",
    "        self.X = X\n",
    "        self.y = y\n",
    "        self.transform = transform\n",
    "\n",
    "    def __len__(self):\n",
    "        return len(self.X)\n",
    "\n",
    "    def __getitem__(self, idx):\n",
    "        X = self.X[idx]\n",
    "        y = self.y[idx]\n",
    "\n",
    "        if self.transform:\n",
    "            X = self.transform(X)\n",
    "\n",
    "        return X, y\n",
    "class MLP(nn.Module):\n",
    "    def __init__(self, num_in, num_hidden, num_out):\n",
    "        super().__init__()\n",
    "        self.flatten = nn.Flatten() # [b, c, h, w] -> [b, cxhxw]\n",
    "        self.l1 = nn.Linear(num_in, num_hidden)\n",
    "        self.l2 = nn.Linear(num_hidden, num_out)\n",
    "\n",
    "    def forward(self, x):\n",
    "        # z1 = self.l1(x)\n",
    "        # a1 = F.relu(z1)\n",
    "        # z2 = self.l2(a1)\n",
    "        x = self.l2(F.relu(self.l1(self.flatten(x))))\n",
    "        return x\n",
    "\n",
    "# 学習ループを関数化\n",
    "def learn(model, train_loader, val_loader, optimizer, loss_func, num_epoch, early_stopping=None):\n",
    "    # ログ\n",
    "    train_losses = []\n",
    "    val_losses = []\n",
    "    val_accuracies = []\n",
    "    \n",
    "    best_val_loss = float('inf')\n",
    "    no_improve = 0 # カウント用変数\n",
    "    \n",
    "    for epoch in range(num_epoch):\n",
    "        running_loss = 0.0\n",
    "        running_val_loss = 0.0\n",
    "        running_val_acc = 0.0\n",
    "        \n",
    "        for train_batch, data in enumerate(train_loader):\n",
    "            \n",
    "            X, y = data\n",
    "            optimizer.zero_grad()\n",
    "            # forward\n",
    "            preds = model(X)\n",
    "            loss = loss_func(preds, y)\n",
    "            running_loss += loss.item()\n",
    "    \n",
    "            # backward\n",
    "            loss.backward()\n",
    "            optimizer.step()\n",
    "    \n",
    "        # validation\n",
    "        with torch.no_grad():\n",
    "            for val_batch, data in enumerate(val_loader):\n",
    "                X_val, y_val = data\n",
    "                preds_val = model(X_val)\n",
    "                val_loss = loss_func(preds_val, y_val)\n",
    "                running_val_loss += val_loss.item()\n",
    "                val_accuracy = torch.sum(torch.argmax(preds_val, dim=-1) == y_val) / y_val.shape[0]\n",
    "                running_val_acc += val_accuracy.item()\n",
    "    \n",
    "        train_losses.append(running_loss/(train_batch + 1))\n",
    "        val_losses.append(running_val_loss/(val_batch + 1))\n",
    "        val_accuracies.append(running_val_acc/(val_batch + 1))\n",
    "        print(f'epoch: {epoch}: train error: {train_losses[-1]}, validation error: {val_losses[-1]}, validation accuracy: {val_accuracies[-1]}')\n",
    "    \n",
    "        if val_losses[-1] < best_val_loss:\n",
    "            best_val_loss = val_losses[-1]\n",
    "            no_improve = 0\n",
    "        else:\n",
    "            no_improve += 1\n",
    "    \n",
    "        if early_stopping and no_improve >= early_stopping:\n",
    "            print('Stopping early')\n",
    "            break\n",
    "\n",
    "    return train_losses, val_losses, val_accuracies\n",
    "        "
   ]
  },
  {
   "cell_type": "code",
   "execution_count": 3,
   "id": "130e2f54-94a1-4b1c-a934-4ccd1d102662",
   "metadata": {},
   "outputs": [
    {
     "name": "stdout",
     "output_type": "stream",
     "text": [
      "epoch: 0: train error: 1.7054140594270495, validation error: 1.0471082776784897, validation accuracy: 0.8177083333333334\n",
      "epoch: 1: train error: 0.6928016463915507, validation error: 0.5008646647135416, validation accuracy: 0.8802083333333334\n",
      "epoch: 2: train error: 0.38037851916419135, validation error: 0.34768162916104, validation accuracy: 0.9010416666666666\n",
      "epoch: 3: train error: 0.2685206577181816, validation error: 0.2689857954780261, validation accuracy: 0.9244791666666666\n",
      "epoch: 4: train error: 0.21555731528335148, validation error: 0.220975112169981, validation accuracy: 0.9479166666666666\n",
      "epoch: 5: train error: 0.18340755419598687, validation error: 0.18528479896485806, validation accuracy: 0.9505208333333334\n",
      "epoch: 6: train error: 0.1657624943388833, validation error: 0.16652311012148857, validation accuracy: 0.953125\n",
      "epoch: 7: train error: 0.14388660374614928, validation error: 0.1550407251343131, validation accuracy: 0.9375\n",
      "epoch: 8: train error: 0.1334268088142077, validation error: 0.15052376439174017, validation accuracy: 0.953125\n",
      "epoch: 9: train error: 0.11905451263818476, validation error: 0.16749685630202293, validation accuracy: 0.9583333333333334\n",
      "epoch: 10: train error: 0.11439955847130881, validation error: 0.13582593016326427, validation accuracy: 0.9609375\n",
      "epoch: 11: train error: 0.10451686986618572, validation error: 0.12532024209698042, validation accuracy: 0.9557291666666666\n",
      "epoch: 12: train error: 0.09674787057770623, validation error: 0.11948385989914338, validation accuracy: 0.9583333333333334\n",
      "epoch: 13: train error: 0.09115406630767717, validation error: 0.11595802350590627, validation accuracy: 0.9661458333333334\n",
      "epoch: 14: train error: 0.08732158614115583, validation error: 0.11310183629393578, validation accuracy: 0.9609375\n",
      "epoch: 15: train error: 0.0819810708777772, validation error: 0.10787050162131588, validation accuracy: 0.9609375\n",
      "epoch: 16: train error: 0.07815263523823684, validation error: 0.10593351799373825, validation accuracy: 0.96875\n",
      "epoch: 17: train error: 0.07683433815836907, validation error: 0.11025145975872874, validation accuracy: 0.9635416666666666\n",
      "epoch: 18: train error: 0.07050595923016469, validation error: 0.10193550074473023, validation accuracy: 0.96875\n",
      "epoch: 19: train error: 0.06830485152701536, validation error: 0.10178015443185966, validation accuracy: 0.9739583333333334\n",
      "epoch: 20: train error: 0.0636652854581674, validation error: 0.0986701319925487, validation accuracy: 0.9713541666666666\n",
      "epoch: 21: train error: 0.061728206214805445, validation error: 0.10179598722606897, validation accuracy: 0.9661458333333334\n",
      "epoch: 22: train error: 0.059029711162050566, validation error: 0.09820215528210004, validation accuracy: 0.9739583333333334\n",
      "epoch: 23: train error: 0.05661434173170063, validation error: 0.0965928287866215, validation accuracy: 0.9739583333333334\n",
      "epoch: 24: train error: 0.055419691672755615, validation error: 0.10526348712543647, validation accuracy: 0.9739583333333334\n",
      "epoch: 25: train error: 0.052726209867331716, validation error: 0.09395323065109551, validation accuracy: 0.9713541666666666\n",
      "epoch: 26: train error: 0.0514800497641166, validation error: 0.09399219540258248, validation accuracy: 0.9713541666666666\n",
      "epoch: 27: train error: 0.04821551038573186, validation error: 0.09309270977973938, validation accuracy: 0.9739583333333334\n",
      "epoch: 28: train error: 0.04755058849437369, validation error: 0.09647067597446342, validation accuracy: 0.9765625\n",
      "epoch: 29: train error: 0.043926511767009895, validation error: 0.09444550851670404, validation accuracy: 0.9661458333333334\n",
      "epoch: 30: train error: 0.04205768290493223, validation error: 0.09031460698073109, validation accuracy: 0.9739583333333334\n",
      "epoch: 31: train error: 0.04103317807118098, validation error: 0.09006817747528355, validation accuracy: 0.9739583333333334\n",
      "epoch: 32: train error: 0.03884738929983642, validation error: 0.09763449550761531, validation accuracy: 0.9635416666666666\n",
      "epoch: 33: train error: 0.03868511032520069, validation error: 0.08867946243844926, validation accuracy: 0.9713541666666666\n",
      "epoch: 34: train error: 0.038023819112115435, validation error: 0.09789614930438499, validation accuracy: 0.9713541666666666\n",
      "epoch: 35: train error: 0.0357421588152647, validation error: 0.0968281962753584, validation accuracy: 0.9713541666666666\n",
      "epoch: 36: train error: 0.034862973768677974, validation error: 0.0899433499823014, validation accuracy: 0.9739583333333334\n",
      "epoch: 37: train error: 0.03322725823769967, validation error: 0.09266366180963814, validation accuracy: 0.9791666666666666\n",
      "epoch: 38: train error: 0.03317367421049211, validation error: 0.0895086150073136, validation accuracy: 0.9739583333333334\n",
      "Stopping early\n"
     ]
    }
   ],
   "source": [
    "# データロード\n",
    "dataset = datasets.load_digits()\n",
    "target = dataset['target']\n",
    "images = dataset['images']\n",
    "images = images * (255. / 16.) # 0~16 -> 0~255\n",
    "images = images.astype(np.uint8)\n",
    "# 学習データと検証データ作成\n",
    "X_train, X_val, y_train, y_val = train_test_split(images, target, test_size=0.2, random_state=42)\n",
    "\n",
    "# DatasetとDataLoader作成\n",
    "transform = transforms.Compose([\n",
    "    transforms.ToTensor(),# 0~255 -> 0~1\n",
    "    transforms.Normalize((.5, ), (.5, )) # 0~1 -> -1~1\n",
    "])\n",
    "\n",
    "batch_size = 32 \n",
    "train_dataset = MyDataset(X_train, y_train, transform=transform)\n",
    "val_dataset = MyDataset(X_val, y_val, transform=transform)\n",
    "train_loader = DataLoader(train_dataset, batch_size=batch_size, shuffle=True, num_workers=2)\n",
    "val_loader = DataLoader(val_dataset, batch_size=batch_size, num_workers=2)\n",
    "early_stopping = 5\n",
    "## Refactoring後の学習ループ\n",
    "learning_rate = 0.1\n",
    "model = MLP(64, 30, 10)\n",
    "opt = optim.SGD(model.parameters(), lr=learning_rate)\n",
    "num_epoch = 100\n",
    "train_losses, val_losses, val_accuracies = learn(model, train_loader, val_loader, opt, F.cross_entropy, num_epoch, early_stopping=5)"
   ]
  },
  {
   "cell_type": "code",
   "execution_count": 4,
   "id": "bc10227b-36f3-4496-aeb9-471e4b7eec56",
   "metadata": {},
   "outputs": [
    {
     "data": {
      "text/plain": [
       "[<matplotlib.lines.Line2D at 0xffff4321b4c0>]"
      ]
     },
     "execution_count": 4,
     "metadata": {},
     "output_type": "execute_result"
    },
    {
     "data": {
      "image/png": "[encoded data removed]",
      "text/plain": [
       "<Figure size 640x480 with 1 Axes>"
      ]
     },
     "metadata": {},
     "output_type": "display_data"
    }
   ],
   "source": [
    "plt.plot(train_losses)\n",
    "plt.plot(val_losses)"
   ]
  },
  {
   "cell_type": "markdown",
   "id": "71cb367d-ff04-42b2-bdbf-da79846356d7",
   "metadata": {},
   "source": [
    "### モデルオブジェクトの保存とロード"
   ]
  },
  {
   "cell_type": "code",
   "execution_count": 5,
   "id": "fee61499-3ccb-48bd-9fbe-6880266b3191",
   "metadata": {},
   "outputs": [
    {
     "data": {
      "text/plain": [
       "MLP(\n",
       "  (flatten): Flatten(start_dim=1, end_dim=-1)\n",
       "  (l1): Linear(in_features=64, out_features=30, bias=True)\n",
       "  (l2): Linear(in_features=30, out_features=10, bias=True)\n",
       ")"
      ]
     },
     "execution_count": 5,
     "metadata": {},
     "output_type": "execute_result"
    }
   ],
   "source": [
    "torch.save(model, 'sample_model.pth')\n",
    "loaded_model = torch.load('sample_model.pth')\n",
    "loaded_model"
   ]
  },
  {
   "cell_type": "markdown",
   "id": "2744161c-4d62-4bf4-9bd5-15e791fd9ac4",
   "metadata": {},
   "source": [
    "### モデルパラメータの保存とロード"
   ]
  },
  {
   "cell_type": "code",
   "execution_count": 6,
   "id": "7f894398-bc21-4238-b842-b933f5e60ef2",
   "metadata": {},
   "outputs": [
    {
     "data": {
      "text/plain": [
       "<All keys matched successfully>"
      ]
     },
     "execution_count": 6,
     "metadata": {},
     "output_type": "execute_result"
    }
   ],
   "source": [
    "params = model.state_dict()\n",
    "another_model = MLP(64, 30, 10)\n",
    "another_model.load_state_dict(params)"
   ]
  },
  {
   "cell_type": "code",
   "execution_count": 7,
   "id": "ae7c1d84-84b6-4a5c-bc21-3d11b2775dca",
   "metadata": {},
   "outputs": [
    {
     "data": {
      "text/plain": [
       "<All keys matched successfully>"
      ]
     },
     "execution_count": 7,
     "metadata": {},
     "output_type": "execute_result"
    }
   ],
   "source": [
    "torch.save(model.state_dict(), 'sample_model_state_dict.pth')\n",
    "another_model.load_state_dict(torch.load('sample_model_state_dict.pth'))"
   ]
  },
  {
   "cell_type": "code",
   "execution_count": 8,
   "id": "1a0579d5-5de5-4579-b5fa-9e0efe857110",
   "metadata": {},
   "outputs": [],
   "source": [
    "# モデル保存付き\n",
    "def learn(model, train_loader, val_loader, optimizer, loss_func, num_epoch, early_stopping=None, save_path=None):\n",
    "    # ログ\n",
    "    train_losses = []\n",
    "    val_losses = []\n",
    "    val_accuracies = []\n",
    "    \n",
    "    best_val_loss = float('inf')\n",
    "    no_improve = 0 # カウント用変数\n",
    "    \n",
    "    for epoch in range(num_epoch):\n",
    "        running_loss = 0.0\n",
    "        running_val_loss = 0.0\n",
    "        running_val_acc = 0.0\n",
    "        \n",
    "        for train_batch, data in enumerate(train_loader):\n",
    "            \n",
    "            X, y = data\n",
    "            optimizer.zero_grad()\n",
    "            # forward\n",
    "            preds = model(X)\n",
    "            loss = loss_func(preds, y)\n",
    "            running_loss += loss.item()\n",
    "    \n",
    "            # backward\n",
    "            loss.backward()\n",
    "            optimizer.step()\n",
    "    \n",
    "        # validation\n",
    "        with torch.no_grad():\n",
    "            for val_batch, data in enumerate(val_loader):\n",
    "                X_val, y_val = data\n",
    "                preds_val = model(X_val)\n",
    "                val_loss = loss_func(preds_val, y_val)\n",
    "                running_val_loss += val_loss.item()\n",
    "                val_accuracy = torch.sum(torch.argmax(preds_val, dim=-1) == y_val) / y_val.shape[0]\n",
    "                running_val_acc += val_accuracy.item()\n",
    "    \n",
    "        train_losses.append(running_loss/(train_batch + 1))\n",
    "        val_losses.append(running_val_loss/(val_batch + 1))\n",
    "        val_accuracies.append(running_val_acc/(val_batch + 1))\n",
    "        print(f'epoch: {epoch}: train error: {train_losses[-1]}, validation error: {val_losses[-1]}, validation accuracy: {val_accuracies[-1]}')\n",
    "    \n",
    "        if val_losses[-1] < best_val_loss:\n",
    "            best_val_loss = val_losses[-1]\n",
    "            no_improve = 0\n",
    "            if save_path is not None:\n",
    "                state = {\n",
    "                'model_state_dict': model.state_dict(),\n",
    "                'optimizer_state_dict': optimizer.state_dict(),\n",
    "                'val_loss': val_losses[-1]\n",
    "                }\n",
    "                torch.save(state, save_path)\n",
    "        else:\n",
    "            no_improve += 1\n",
    "    \n",
    "        if early_stopping and no_improve >= early_stopping:\n",
    "            print('Stopping early')\n",
    "            break\n",
    "\n",
    "    return train_losses, val_losses, val_accuracies\n",
    "        "
   ]
  },
  {
   "cell_type": "code",
   "execution_count": 9,
   "id": "ce63c6b3-83c7-4b1c-84ad-4255aebd180e",
   "metadata": {},
   "outputs": [
    {
     "name": "stdout",
     "output_type": "stream",
     "text": [
      "epoch: 0: train error: 1.8902304066552056, validation error: 1.291235665480296, validation accuracy: 0.7604166666666666\n",
      "epoch: 1: train error: 0.8458498160044352, validation error: 0.540640746553739, validation accuracy: 0.8958333333333334\n",
      "epoch: 2: train error: 0.4307652817832099, validation error: 0.3458210999766986, validation accuracy: 0.9322916666666666\n",
      "epoch: 3: train error: 0.2919006453620063, validation error: 0.27114536116520566, validation accuracy: 0.9375\n",
      "epoch: 4: train error: 0.23118400557173624, validation error: 0.21790571883320808, validation accuracy: 0.9427083333333334\n",
      "epoch: 5: train error: 0.19631932708952163, validation error: 0.18689150673647723, validation accuracy: 0.9557291666666666\n",
      "epoch: 6: train error: 0.16666459855106142, validation error: 0.1818670965731144, validation accuracy: 0.9453125\n",
      "epoch: 7: train error: 0.1515703934762213, validation error: 0.15223536764582, validation accuracy: 0.9479166666666666\n",
      "epoch: 8: train error: 0.13705768353409237, validation error: 0.1447306073581179, validation accuracy: 0.9505208333333334\n",
      "epoch: 9: train error: 0.1254867408838537, validation error: 0.13495768327265978, validation accuracy: 0.9557291666666666\n",
      "epoch: 10: train error: 0.11750602457258437, validation error: 0.1284452627102534, validation accuracy: 0.9583333333333334\n",
      "epoch: 11: train error: 0.10782421566545963, validation error: 0.12883542415996393, validation accuracy: 0.9635416666666666\n",
      "epoch: 12: train error: 0.10482289120554925, validation error: 0.12344130283842485, validation accuracy: 0.9713541666666666\n",
      "epoch: 13: train error: 0.09872867680258221, validation error: 0.11601069228102763, validation accuracy: 0.9713541666666666\n",
      "epoch: 14: train error: 0.09183672414057785, validation error: 0.12050215930988391, validation accuracy: 0.9557291666666666\n",
      "epoch: 15: train error: 0.09005350100083484, validation error: 0.11946034183104833, validation accuracy: 0.9609375\n",
      "epoch: 16: train error: 0.08616786979966694, validation error: 0.10754276812076569, validation accuracy: 0.96875\n",
      "epoch: 17: train error: 0.07985173410011662, validation error: 0.11512080145378907, validation accuracy: 0.9635416666666666\n",
      "epoch: 18: train error: 0.07679948815041118, validation error: 0.10729578727235396, validation accuracy: 0.96875\n",
      "epoch: 19: train error: 0.07269228614038892, validation error: 0.1280053953329722, validation accuracy: 0.9583333333333334\n",
      "epoch: 20: train error: 0.07071090804206001, validation error: 0.10338201094418764, validation accuracy: 0.9713541666666666\n",
      "epoch: 21: train error: 0.06706789636777508, validation error: 0.10330554548030098, validation accuracy: 0.9739583333333334\n",
      "epoch: 22: train error: 0.06307878382503987, validation error: 0.10851668620792528, validation accuracy: 0.9661458333333334\n",
      "epoch: 23: train error: 0.06051791244082981, validation error: 0.09675122223173578, validation accuracy: 0.9739583333333334\n",
      "epoch: 24: train error: 0.0592292707413435, validation error: 0.09792739820356171, validation accuracy: 0.9713541666666666\n",
      "epoch: 25: train error: 0.05838818912290865, validation error: 0.09732373058795929, validation accuracy: 0.9739583333333334\n",
      "epoch: 26: train error: 0.05452584450443586, validation error: 0.09740858649214108, validation accuracy: 0.9765625\n",
      "epoch: 27: train error: 0.0536375102483564, validation error: 0.09499684441834688, validation accuracy: 0.9713541666666666\n",
      "epoch: 28: train error: 0.05061149787571695, validation error: 0.09455404671219488, validation accuracy: 0.9739583333333334\n",
      "epoch: 29: train error: 0.04963937426606814, validation error: 0.09615585215700169, validation accuracy: 0.96875\n",
      "epoch: 30: train error: 0.049554340975979966, validation error: 0.10259415271381538, validation accuracy: 0.9713541666666666\n",
      "epoch: 31: train error: 0.0470876455720928, validation error: 0.09311492166792353, validation accuracy: 0.9791666666666666\n",
      "epoch: 32: train error: 0.0434040820846955, validation error: 0.09371013279693823, validation accuracy: 0.9661458333333334\n",
      "epoch: 33: train error: 0.043634094391018154, validation error: 0.09878745341363053, validation accuracy: 0.9661458333333334\n",
      "epoch: 34: train error: 0.04019763267909487, validation error: 0.09543157205916941, validation accuracy: 0.9713541666666666\n",
      "epoch: 35: train error: 0.03902695166567961, validation error: 0.10266435899150868, validation accuracy: 0.9661458333333334\n",
      "epoch: 36: train error: 0.03858725149184465, validation error: 0.09217542588400345, validation accuracy: 0.9713541666666666\n",
      "epoch: 37: train error: 0.03748524421826005, validation error: 0.08993360966754456, validation accuracy: 0.9739583333333334\n",
      "epoch: 38: train error: 0.03619037496132983, validation error: 0.09023909356134634, validation accuracy: 0.9739583333333334\n",
      "epoch: 39: train error: 0.03677956278746327, validation error: 0.09272589720785618, validation accuracy: 0.9661458333333334\n",
      "epoch: 40: train error: 0.03457541738947233, validation error: 0.09038240656567116, validation accuracy: 0.9713541666666666\n",
      "epoch: 41: train error: 0.033281562901619405, validation error: 0.09166990344723065, validation accuracy: 0.9713541666666666\n",
      "epoch: 42: train error: 0.032410974531537955, validation error: 0.09025689179543406, validation accuracy: 0.96875\n",
      "Stopping early\n"
     ]
    }
   ],
   "source": [
    "model = MLP(64, 30, 10)\n",
    "opt = optim.SGD(model.parameters(), lr=learning_rate)\n",
    "train_losses, val_losses, val_accuracies = learn(model, train_loader, val_loader, opt, F.cross_entropy, num_epoch, early_stopping=5, save_path='checkpoint')"
   ]
  },
  {
   "cell_type": "code",
   "execution_count": 10,
   "id": "b38607d5-4420-4d25-8eaf-1836dcc4d6e2",
   "metadata": {},
   "outputs": [],
   "source": [
    "state = torch.load('checkpoint')\n",
    "model.load_state_dict(state['model_state_dict'])\n",
    "opt.load_state_dict(state['optimizer_state_dict'])"
   ]
  }
 ],
 "metadata": {
  "kernelspec": {
   "display_name": "Python 3 (ipykernel)",
   "language": "python",
   "name": "python3"
  },
  "language_info": {
   "codemirror_mode": {
    "name": "ipython",
    "version": 3
   },
   "file_extension": ".py",
   "mimetype": "text/x-python",
   "name": "python",
   "nbconvert_exporter": "python",
   "pygments_lexer": "ipython3",
   "version": "3.8.16"
  }
 },
 "nbformat": 4,
 "nbformat_minor": 5
}
