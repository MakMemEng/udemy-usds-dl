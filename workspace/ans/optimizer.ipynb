{
 "cells": [
  {
   "cell_type": "markdown",
   "id": "e93acf02-d800-4c1b-861e-1d52236f2f66",
   "metadata": {},
   "source": [
    "## Optimizer"
   ]
  },
  {
   "cell_type": "code",
   "execution_count": 1,
   "id": "d5ecbf5e-e144-443c-9048-893a909290bc",
   "metadata": {},
   "outputs": [],
   "source": [
    "import torch\n",
    "from torch import nn\n",
    "from torch.nn import functional as F\n",
    "from sklearn import datasets\n",
    "import matplotlib.pyplot as plt\n",
    "from sklearn.model_selection import train_test_split\n",
    "import numpy as np"
   ]
  },
  {
   "cell_type": "markdown",
   "id": "dc877bbb-2980-486d-9ec2-85159d3730f8",
   "metadata": {},
   "source": [
    "### スクラッチ実装"
   ]
  },
  {
   "cell_type": "code",
   "execution_count": 2,
   "id": "18ba7ed0-63cd-48e1-83f0-968d2203ca37",
   "metadata": {},
   "outputs": [],
   "source": [
    "class MLP(nn.Module):\n",
    "    def __init__(self, num_in, num_hidden, num_out):\n",
    "        super().__init__()\n",
    "        self.l1 = nn.Linear(num_in, num_hidden)\n",
    "        self.l2 = nn.Linear(num_hidden, num_out)\n",
    "\n",
    "    def forward(self, x):\n",
    "        # z1 = self.l1(x)\n",
    "        # a1 = F.relu(z1)\n",
    "        # z2 = self.l2(a1)\n",
    "        x = self.l2(F.relu(self.l1(x)))\n",
    "        return x"
   ]
  },
  {
   "cell_type": "code",
   "execution_count": 3,
   "id": "5ed6334e-0965-49c7-8b09-b352615ebb2b",
   "metadata": {},
   "outputs": [
    {
     "data": {
      "text/plain": [
       "<generator object Module.parameters at 0xffff4a3ebba0>"
      ]
     },
     "execution_count": 3,
     "metadata": {},
     "output_type": "execute_result"
    }
   ],
   "source": [
    "model = MLP(64, 30, 10)\n",
    "model.parameters()"
   ]
  },
  {
   "cell_type": "code",
   "execution_count": 4,
   "id": "1d7480cf-a002-4e8e-a285-25c3c16aa656",
   "metadata": {},
   "outputs": [],
   "source": [
    "class Optimizer():\n",
    "\n",
    "    def __init__(self, parameters, lr=0.03):\n",
    "        self.parameters = list(parameters)\n",
    "        self.lr = lr\n",
    "\n",
    "    def step(self):\n",
    "        with torch.no_grad():\n",
    "            for param in self.parameters:\n",
    "                param -= self.lr * param.grad\n",
    "\n",
    "    def zero_grad(self):\n",
    "        for param in self.parameters:\n",
    "            if param.grad is not None:\n",
    "                param.grad.zero_()"
   ]
  },
  {
   "cell_type": "code",
   "execution_count": 5,
   "id": "0691aed9-7ae0-4aa1-896f-4a2379857792",
   "metadata": {},
   "outputs": [],
   "source": [
    "learning_rate = 0.01\n",
    "opt = Optimizer(parameters=model.parameters(), lr=learning_rate)"
   ]
  },
  {
   "cell_type": "code",
   "execution_count": 6,
   "id": "a4b1e136-f368-4ea4-9cc2-cdfe3a3c2fdf",
   "metadata": {
    "scrolled": true
   },
   "outputs": [
    {
     "name": "stdout",
     "output_type": "stream",
     "text": [
      "epoch: 0: train error: 2.250039726495743, validation error: 2.1881699562072754, validation accuracy: 0.18888889253139496\n",
      "epoch: 1: train error: 2.118503545721372, validation error: 1.8520101308822632, validation accuracy: 0.34166666865348816\n",
      "epoch: 2: train error: 1.9763285120328267, validation error: 1.5020840167999268, validation accuracy: 0.48055556416511536\n",
      "epoch: 3: train error: 1.8085261459151905, validation error: 1.203054428100586, validation accuracy: 0.6027777791023254\n",
      "epoch: 4: train error: 1.61716744552056, validation error: 1.0023492574691772, validation accuracy: 0.6611111164093018\n",
      "epoch: 5: train error: 1.4140830611189206, validation error: 0.825630247592926, validation accuracy: 0.7027778029441833\n",
      "epoch: 6: train error: 1.2153398506343365, validation error: 0.7068569660186768, validation accuracy: 0.7722222208976746\n",
      "epoch: 7: train error: 1.0370984685917695, validation error: 0.6625185608863831, validation accuracy: 0.8083333373069763\n",
      "epoch: 8: train error: 0.8885923624038696, validation error: 0.6268196105957031, validation accuracy: 0.8361111283302307\n",
      "epoch: 9: train error: 0.7698635744551817, validation error: 0.607161819934845, validation accuracy: 0.855555534362793\n",
      "epoch: 10: train error: 0.6764205110569795, validation error: 0.5720199346542358, validation accuracy: 0.855555534362793\n",
      "epoch: 11: train error: 0.6026750827829043, validation error: 0.5807085037231445, validation accuracy: 0.8666666746139526\n",
      "epoch: 12: train error: 0.5431742233534654, validation error: 0.5742468237876892, validation accuracy: 0.875\n",
      "epoch: 13: train error: 0.4955968012412389, validation error: 0.5662105083465576, validation accuracy: 0.875\n",
      "epoch: 14: train error: 0.4545560634384553, validation error: 0.5606387853622437, validation accuracy: 0.8777777552604675\n",
      "epoch: 15: train error: 0.42187985839943093, validation error: 0.5536684393882751, validation accuracy: 0.8777777552604675\n",
      "epoch: 16: train error: 0.39471022319048643, validation error: 0.5389048457145691, validation accuracy: 0.8888888955116272\n",
      "epoch: 17: train error: 0.3696872014552355, validation error: 0.5251300930976868, validation accuracy: 0.8972222208976746\n",
      "epoch: 18: train error: 0.3482416421175003, validation error: 0.5268794894218445, validation accuracy: 0.894444465637207\n",
      "epoch: 19: train error: 0.3297366192564368, validation error: 0.5154710412025452, validation accuracy: 0.8999999761581421\n",
      "epoch: 20: train error: 0.3131015111381809, validation error: 0.5059627890586853, validation accuracy: 0.9027777910232544\n",
      "epoch: 21: train error: 0.2977578990782301, validation error: 0.492831289768219, validation accuracy: 0.8972222208976746\n",
      "epoch: 22: train error: 0.2852610982954502, validation error: 0.49584007263183594, validation accuracy: 0.9083333611488342\n",
      "epoch: 23: train error: 0.27245506768425304, validation error: 0.47859108448028564, validation accuracy: 0.9111111164093018\n",
      "epoch: 24: train error: 0.2623165162901084, validation error: 0.47497811913490295, validation accuracy: 0.9111111164093018\n",
      "epoch: 25: train error: 0.25232394070674974, validation error: 0.4739972949028015, validation accuracy: 0.9111111164093018\n",
      "epoch: 26: train error: 0.2426935015246272, validation error: 0.4588738679885864, validation accuracy: 0.9111111164093018\n",
      "epoch: 27: train error: 0.23459565608451763, validation error: 0.4795989990234375, validation accuracy: 0.9111111164093018\n",
      "epoch: 28: train error: 0.22713030595332384, validation error: 0.4726082682609558, validation accuracy: 0.9111111164093018\n",
      "epoch: 29: train error: 0.22005952739467224, validation error: 0.4735495150089264, validation accuracy: 0.9111111164093018\n",
      "epoch: 30: train error: 0.21340656466782093, validation error: 0.47322261333465576, validation accuracy: 0.9138888716697693\n",
      "epoch: 31: train error: 0.2072776136919856, validation error: 0.4556677043437958, validation accuracy: 0.9166666865348816\n",
      "epoch: 32: train error: 0.20146073835591474, validation error: 0.45135658979415894, validation accuracy: 0.925000011920929\n",
      "epoch: 33: train error: 0.19625362303728858, validation error: 0.44883355498313904, validation accuracy: 0.925000011920929\n",
      "epoch: 34: train error: 0.19145288271829486, validation error: 0.45400872826576233, validation accuracy: 0.925000011920929\n",
      "epoch: 35: train error: 0.18624624252940217, validation error: 0.45147356390953064, validation accuracy: 0.9277777671813965\n",
      "epoch: 36: train error: 0.1814261108326415, validation error: 0.46378469467163086, validation accuracy: 0.9277777671813965\n",
      "epoch: 37: train error: 0.17797184533750018, validation error: 0.4579450488090515, validation accuracy: 0.925000011920929\n",
      "epoch: 38: train error: 0.173820740232865, validation error: 0.441985160112381, validation accuracy: 0.9305555820465088\n",
      "epoch: 39: train error: 0.16981268433543542, validation error: 0.44951245188713074, validation accuracy: 0.9277777671813965\n",
      "epoch: 40: train error: 0.1665484164841473, validation error: 0.4339146912097931, validation accuracy: 0.9277777671813965\n",
      "epoch: 41: train error: 0.1632176775795718, validation error: 0.4444005787372589, validation accuracy: 0.9277777671813965\n",
      "epoch: 42: train error: 0.16029323800466955, validation error: 0.44537514448165894, validation accuracy: 0.9277777671813965\n",
      "epoch: 43: train error: 0.15690247217814127, validation error: 0.4444420635700226, validation accuracy: 0.9277777671813965\n",
      "epoch: 44: train error: 0.1539178362581879, validation error: 0.4508233070373535, validation accuracy: 0.9333333373069763\n",
      "epoch: 45: train error: 0.15123201541913053, validation error: 0.4459032416343689, validation accuracy: 0.9305555820465088\n",
      "epoch: 46: train error: 0.14878910244442523, validation error: 0.4478608965873718, validation accuracy: 0.9333333373069763\n",
      "epoch: 47: train error: 0.1461328094980369, validation error: 0.4502691924571991, validation accuracy: 0.9333333373069763\n",
      "epoch: 48: train error: 0.14374618379709622, validation error: 0.4510827362537384, validation accuracy: 0.9361110925674438\n",
      "epoch: 49: train error: 0.14129115152172744, validation error: 0.46696582436561584, validation accuracy: 0.9305555820465088\n",
      "epoch: 50: train error: 0.13918088353239, validation error: 0.4518292248249054, validation accuracy: 0.9305555820465088\n",
      "epoch: 51: train error: 0.13684285284640887, validation error: 0.45566973090171814, validation accuracy: 0.9305555820465088\n",
      "epoch: 52: train error: 0.13477564494435987, validation error: 0.45669665932655334, validation accuracy: 0.9305555820465088\n",
      "epoch: 53: train error: 0.1326700294545541, validation error: 0.4587308168411255, validation accuracy: 0.9305555820465088\n",
      "epoch: 54: train error: 0.13073071313556284, validation error: 0.4710121154785156, validation accuracy: 0.9305555820465088\n",
      "epoch: 55: train error: 0.12894958226631084, validation error: 0.47016990184783936, validation accuracy: 0.9305555820465088\n",
      "epoch: 56: train error: 0.12676371564157307, validation error: 0.4687804877758026, validation accuracy: 0.9333333373069763\n",
      "epoch: 57: train error: 0.12516392037893334, validation error: 0.4553817808628082, validation accuracy: 0.9333333373069763\n",
      "epoch: 58: train error: 0.12395085153790812, validation error: 0.4622039794921875, validation accuracy: 0.9333333373069763\n",
      "epoch: 59: train error: 0.12236907822079957, validation error: 0.4665047228336334, validation accuracy: 0.9305555820465088\n",
      "epoch: 60: train error: 0.12011463552092512, validation error: 0.4691929221153259, validation accuracy: 0.9305555820465088\n",
      "epoch: 61: train error: 0.11924395667544256, validation error: 0.4727914035320282, validation accuracy: 0.9333333373069763\n",
      "epoch: 62: train error: 0.11747706743578117, validation error: 0.46295469999313354, validation accuracy: 0.9361110925674438\n",
      "epoch: 63: train error: 0.11562746320851147, validation error: 0.4714197814464569, validation accuracy: 0.9361110925674438\n",
      "epoch: 64: train error: 0.11451191082596779, validation error: 0.4774101674556732, validation accuracy: 0.9333333373069763\n",
      "epoch: 65: train error: 0.11251620183854054, validation error: 0.4984266459941864, validation accuracy: 0.9333333373069763\n",
      "epoch: 66: train error: 0.11160341176825266, validation error: 0.482810378074646, validation accuracy: 0.9333333373069763\n",
      "epoch: 67: train error: 0.11006314555803935, validation error: 0.487160325050354, validation accuracy: 0.9333333373069763\n",
      "epoch: 68: train error: 0.10926918243058026, validation error: 0.5003308057785034, validation accuracy: 0.9333333373069763\n",
      "epoch: 69: train error: 0.10783143031100433, validation error: 0.504190981388092, validation accuracy: 0.9333333373069763\n",
      "epoch: 70: train error: 0.10665539877178769, validation error: 0.5008143186569214, validation accuracy: 0.9333333373069763\n",
      "epoch: 71: train error: 0.10537026581975321, validation error: 0.5105361938476562, validation accuracy: 0.9333333373069763\n",
      "epoch: 72: train error: 0.10404118061220895, validation error: 0.5021438598632812, validation accuracy: 0.9333333373069763\n",
      "epoch: 73: train error: 0.10298580687958747, validation error: 0.49864697456359863, validation accuracy: 0.9333333373069763\n",
      "epoch: 74: train error: 0.10194751585368067, validation error: 0.512832760810852, validation accuracy: 0.9305555820465088\n",
      "epoch: 75: train error: 0.10098007313596706, validation error: 0.5108919143676758, validation accuracy: 0.9305555820465088\n",
      "epoch: 76: train error: 0.09960250940639526, validation error: 0.5220987200737, validation accuracy: 0.9305555820465088\n",
      "epoch: 77: train error: 0.09870955305329214, validation error: 0.5076375603675842, validation accuracy: 0.9333333373069763\n",
      "epoch: 78: train error: 0.09742311423178762, validation error: 0.5105177760124207, validation accuracy: 0.9333333373069763\n",
      "epoch: 79: train error: 0.0966128211390848, validation error: 0.5215457677841187, validation accuracy: 0.9333333373069763\n",
      "epoch: 80: train error: 0.09580669734471788, validation error: 0.5239459276199341, validation accuracy: 0.9333333373069763\n",
      "epoch: 81: train error: 0.09507623764996727, validation error: 0.5270944833755493, validation accuracy: 0.9333333373069763\n",
      "epoch: 82: train error: 0.09375164816932131, validation error: 0.5353733897209167, validation accuracy: 0.9333333373069763\n",
      "epoch: 83: train error: 0.09274318814277649, validation error: 0.5463364720344543, validation accuracy: 0.9333333373069763\n",
      "epoch: 84: train error: 0.0918944540899247, validation error: 0.5263233780860901, validation accuracy: 0.9333333373069763\n",
      "epoch: 85: train error: 0.09102683914049219, validation error: 0.5544149279594421, validation accuracy: 0.9277777671813965\n",
      "epoch: 86: train error: 0.0902606212766841, validation error: 0.5492343306541443, validation accuracy: 0.9333333373069763\n",
      "epoch: 87: train error: 0.08957775014763077, validation error: 0.5419071912765503, validation accuracy: 0.9333333373069763\n",
      "epoch: 88: train error: 0.08852974884212017, validation error: 0.5532277226448059, validation accuracy: 0.9305555820465088\n",
      "epoch: 89: train error: 0.08758053292209904, validation error: 0.5541654229164124, validation accuracy: 0.9333333373069763\n",
      "epoch: 90: train error: 0.08703933582485963, validation error: 0.5624297857284546, validation accuracy: 0.9305555820465088\n",
      "epoch: 91: train error: 0.08615990118899693, validation error: 0.5634291768074036, validation accuracy: 0.9305555820465088\n",
      "epoch: 92: train error: 0.08523045596666634, validation error: 0.5759285688400269, validation accuracy: 0.9277777671813965\n",
      "epoch: 93: train error: 0.08462399151176214, validation error: 0.5665960311889648, validation accuracy: 0.9305555820465088\n",
      "epoch: 94: train error: 0.08376855864965667, validation error: 0.5846126079559326, validation accuracy: 0.9305555820465088\n",
      "epoch: 95: train error: 0.0829833442500482, validation error: 0.5814074277877808, validation accuracy: 0.9305555820465088\n",
      "epoch: 96: train error: 0.0822838149809589, validation error: 0.5795546770095825, validation accuracy: 0.9305555820465088\n",
      "epoch: 97: train error: 0.08145714182561885, validation error: 0.5797224044799805, validation accuracy: 0.9333333373069763\n",
      "epoch: 98: train error: 0.08072375634219497, validation error: 0.6155517101287842, validation accuracy: 0.9305555820465088\n",
      "epoch: 99: train error: 0.08035054348874837, validation error: 0.6074917912483215, validation accuracy: 0.9305555820465088\n"
     ]
    }
   ],
   "source": [
    "\n",
    "## Refactoring後の学習ループ(OptimizerやDataset, Dataloaderは後ほどRefactoring)\n",
    "# ===データの準備====\n",
    "dataset = datasets.load_digits()\n",
    "data = dataset['data']\n",
    "target = dataset['target']\n",
    "images = dataset['images']\n",
    "X_train, X_val, y_train, y_val = train_test_split(images, target, test_size=0.2, random_state=42)\n",
    "X_train = (X_train - X_train.mean()) / X_train.std()\n",
    "X_val = (X_val - X_train.mean()) / X_train.std()\n",
    "X_train = torch.tensor(X_train.reshape(-1, 64), dtype=torch.float32)\n",
    "X_val = torch.tensor(X_val.reshape(-1, 64), dtype=torch.float32)\n",
    "y_train = torch.tensor(y_train) \n",
    "y_val = torch.tensor(y_val) \n",
    "batch_size = 30\n",
    "num_batches = np.ceil(len(y_train)/batch_size).astype(int)\n",
    "\n",
    "# ログ\n",
    "train_losses = []\n",
    "val_losses = []\n",
    "val_accuracies = []\n",
    "for epoch in range(100):\n",
    "    # エポック毎にデータをシャッフル\n",
    "    shuffled_indices = np.random.permutation(len(y_train))\n",
    "    running_loss = 0.0\n",
    "    \n",
    "    for i in range(num_batches):\n",
    "        \n",
    "        # mini batch作成\n",
    "        start = i * batch_size\n",
    "        end = start + batch_size\n",
    "\n",
    "        batch_indices = shuffled_indices[start:end]\n",
    "        y = y_train[batch_indices] # batch_size x 10\n",
    "        \n",
    "        X = X_train[batch_indices] # batch_size x 64\n",
    "        # 順伝播と逆伝播の計算\n",
    "        opt.zero_grad()\n",
    "        preds = model(X)\n",
    "        loss = F.cross_entropy(preds, y)\n",
    "        loss.backward()\n",
    "        running_loss += loss.item()\n",
    "\n",
    "        # パラメータ更新\n",
    "        # with torch.no_grad():\n",
    "        #     for param in model.parameters():\n",
    "        #         param -= learning_rate * param.grad\n",
    "\n",
    "        # model.zero_grad()\n",
    "        opt.step()\n",
    "        \n",
    "\n",
    "    # validation\n",
    "    with torch.no_grad():\n",
    "        preds_val = model(X_val)\n",
    "        val_loss = F.cross_entropy(preds_val, y_val)\n",
    "        val_accuracy = torch.sum(torch.argmax(preds_val, dim=-1) == y_val) / y_val.shape[0]\n",
    "\n",
    "    train_losses.append(running_loss/num_batches)\n",
    "    val_losses.append(val_loss.item())\n",
    "    val_accuracies.append(val_accuracy)\n",
    "    print(f'epoch: {epoch}: train error: {running_loss/num_batches}, validation error: {val_loss.item()}, validation accuracy: {val_accuracy}')"
   ]
  },
  {
   "cell_type": "markdown",
   "id": "9a44023c-06a8-4b4f-b9c2-36ddc7265840",
   "metadata": {},
   "source": [
    "### torch.optim"
   ]
  },
  {
   "cell_type": "code",
   "execution_count": 7,
   "id": "8d49f9ec-3452-4fd0-aeb1-bb9277f6b4fb",
   "metadata": {},
   "outputs": [],
   "source": [
    "from torch import optim\n",
    "opt = optim.SGD(model.parameters(), lr=learning_rate)"
   ]
  }
 ],
 "metadata": {
  "kernelspec": {
   "display_name": "Python 3 (ipykernel)",
   "language": "python",
   "name": "python3"
  },
  "language_info": {
   "codemirror_mode": {
    "name": "ipython",
    "version": 3
   },
   "file_extension": ".py",
   "mimetype": "text/x-python",
   "name": "python",
   "nbconvert_exporter": "python",
   "pygments_lexer": "ipython3",
   "version": "3.8.16"
  }
 },
 "nbformat": 4,
 "nbformat_minor": 5
}
