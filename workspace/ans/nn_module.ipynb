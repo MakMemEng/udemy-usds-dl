{
 "cells": [
  {
   "cell_type": "markdown",
   "id": "00ff95aa-d413-4ce3-9f2d-695d0d24161a",
   "metadata": {},
   "source": [
    "## Pytorchのnnモジュール"
   ]
  },
  {
   "cell_type": "code",
   "execution_count": 1,
   "id": "479eed37-5ee2-4e71-9431-57ed1bd1f9d7",
   "metadata": {},
   "outputs": [],
   "source": [
    "import torch\n",
    "from torch import nn\n",
    "from torch.nn import functional as F\n",
    "from sklearn import datasets\n",
    "import matplotlib.pyplot as plt\n",
    "from sklearn.model_selection import train_test_split\n",
    "import numpy as np"
   ]
  },
  {
   "cell_type": "markdown",
   "id": "e388799a-4346-4827-a694-ab63c73c9927",
   "metadata": {},
   "source": [
    "### nn.Linear"
   ]
  },
  {
   "cell_type": "code",
   "execution_count": 2,
   "id": "ab6692bf-68e8-40db-9ae4-3131a11e1e14",
   "metadata": {},
   "outputs": [
    {
     "data": {
      "text/plain": [
       "[Parameter containing:\n",
       " tensor([[-0.0948,  0.0062, -0.0331,  ...,  0.1033, -0.1100, -0.0102],\n",
       "         [ 0.0712, -0.0731,  0.1127,  ..., -0.0621,  0.0466, -0.0552],\n",
       "         [ 0.0844, -0.0605,  0.0024,  ...,  0.1085, -0.0696, -0.0251],\n",
       "         ...,\n",
       "         [-0.0987,  0.0328, -0.1179,  ...,  0.0657,  0.0928,  0.1178],\n",
       "         [-0.0090,  0.0249,  0.1211,  ...,  0.0871, -0.0038, -0.0701],\n",
       "         [-0.1022, -0.0535, -0.0816,  ...,  0.0518,  0.0189,  0.0780]],\n",
       "        requires_grad=True),\n",
       " Parameter containing:\n",
       " tensor([-0.1020, -0.0859,  0.0521, -0.0303,  0.0049, -0.0191,  0.0204,  0.0251,\n",
       "         -0.0953,  0.0608, -0.0267, -0.0711, -0.0666, -0.0360, -0.1131,  0.0246,\n",
       "          0.1022,  0.0896, -0.0721,  0.1100, -0.0787,  0.1076, -0.0276, -0.0751,\n",
       "         -0.0949, -0.0230,  0.0540,  0.0136, -0.1103, -0.1215],\n",
       "        requires_grad=True)]"
      ]
     },
     "execution_count": 2,
     "metadata": {},
     "output_type": "execute_result"
    }
   ],
   "source": [
    "linear = nn.Linear(64, 30)\n",
    "# weightとbiasの二つのtensorがparameter\n",
    "list(linear.parameters())"
   ]
  },
  {
   "cell_type": "code",
   "execution_count": 3,
   "id": "b6e2701c-5aea-4557-80bd-b2df94d76aac",
   "metadata": {},
   "outputs": [
    {
     "name": "stdout",
     "output_type": "stream",
     "text": [
      "torch.Size([30, 64])\n",
      "torch.Size([30])\n"
     ]
    }
   ],
   "source": [
    "# weightは出力x入力であることに注意．Z = X@W.T + bになっている\n",
    "print(linear.weight.shape)\n",
    "print(linear.bias.shape)"
   ]
  },
  {
   "cell_type": "code",
   "execution_count": 4,
   "id": "9cf3422c-fa87-4e32-9c6a-0aa799490c3f",
   "metadata": {},
   "outputs": [
    {
     "data": {
      "text/plain": [
       "torch.Size([30])"
      ]
     },
     "execution_count": 4,
     "metadata": {},
     "output_type": "execute_result"
    }
   ],
   "source": [
    "linear.bias.shape"
   ]
  },
  {
   "cell_type": "code",
   "execution_count": 5,
   "id": "7167309c-2f71-47ee-a57b-3aeb121e306b",
   "metadata": {},
   "outputs": [
    {
     "data": {
      "text/plain": [
       "torch.Size([5, 30])"
      ]
     },
     "execution_count": 5,
     "metadata": {},
     "output_type": "execute_result"
    }
   ],
   "source": [
    "# 順伝搬\n",
    "X = torch.randn((5, 64))\n",
    "Z = linear(X)\n",
    "Z.shape"
   ]
  },
  {
   "cell_type": "markdown",
   "id": "94212eed-a430-4efd-9cca-b31016366673",
   "metadata": {},
   "source": [
    "### MLP実装"
   ]
  },
  {
   "cell_type": "code",
   "execution_count": 6,
   "id": "f121911b-ac0d-45df-b99e-88037058c4b1",
   "metadata": {},
   "outputs": [],
   "source": [
    "# 1. nn.クラスとF.関数を組み合わせたケース\n",
    "class MLP(nn.Module):\n",
    "    def __init__(self, num_in, num_hidden, num_out):\n",
    "        super().__init__()\n",
    "        self.l1 = nn.Linear(num_in, num_hidden)\n",
    "        self.l2 = nn.Linear(num_hidden, num_out)\n",
    "\n",
    "    def forward(self, x):\n",
    "        # z1 = self.l1(x)\n",
    "        # a1 = F.relu(z1)\n",
    "        # z2 = self.l2(a1)\n",
    "        x = self.l2(F.relu(self.l1(x)))\n",
    "        return x"
   ]
  },
  {
   "cell_type": "code",
   "execution_count": 7,
   "id": "c21c3529-3e28-4303-b796-0350cd58f969",
   "metadata": {},
   "outputs": [
    {
     "data": {
      "text/plain": [
       "torch.Size([5, 10])"
      ]
     },
     "execution_count": 7,
     "metadata": {},
     "output_type": "execute_result"
    }
   ],
   "source": [
    "# 順伝搬テスト\n",
    "model = MLP(64, 30, 10)\n",
    "X = torch.randn(5, 64)\n",
    "Z = model(X)\n",
    "Z.shape"
   ]
  },
  {
   "cell_type": "code",
   "execution_count": 8,
   "id": "7347ad9e-3db8-4677-a53e-5a7ce1cc4d50",
   "metadata": {},
   "outputs": [],
   "source": [
    "# 2. nn.クラスのみで構成するケース\n",
    "class MLP(nn.Module):\n",
    "    def __init__(self, num_in, num_hidden, num_out):\n",
    "        super().__init__()\n",
    "        self.l1 = nn.Linear(num_in, num_hidden)\n",
    "        self.l2 = nn.Linear(num_hidden, num_out)\n",
    "        self.relu = nn.ReLU()\n",
    "\n",
    "    def forward(self, x):\n",
    "        x = self.l2(self.relu(self.l1(x)))\n",
    "        return x"
   ]
  },
  {
   "cell_type": "code",
   "execution_count": 9,
   "id": "874b43b4-ee0e-4675-bdce-06765b8d3947",
   "metadata": {},
   "outputs": [
    {
     "data": {
      "text/plain": [
       "torch.Size([5, 10])"
      ]
     },
     "execution_count": 9,
     "metadata": {},
     "output_type": "execute_result"
    }
   ],
   "source": [
    "# 順伝搬テスト\n",
    "model = MLP(64, 30, 10)\n",
    "X = torch.randn(5, 64)\n",
    "Z = model(X)\n",
    "Z.shape"
   ]
  },
  {
   "cell_type": "code",
   "execution_count": 10,
   "id": "cb444442-a19a-405b-a4ed-14fead2a8312",
   "metadata": {},
   "outputs": [],
   "source": [
    "# 3. nn.Sequentialを使ったケース\n",
    "num_in = 64\n",
    "num_hidden = 30\n",
    "num_out = 10\n",
    "\n",
    "model = nn.Sequential(\n",
    "    nn.Linear(num_in, num_hidden),\n",
    "    nn.ReLU(),\n",
    "    nn.Linear(num_hidden, num_out)\n",
    ")"
   ]
  },
  {
   "cell_type": "code",
   "execution_count": 11,
   "id": "8da8e10f-189b-48ea-896f-1a29adcc8d4f",
   "metadata": {},
   "outputs": [
    {
     "data": {
      "text/plain": [
       "torch.Size([5, 10])"
      ]
     },
     "execution_count": 11,
     "metadata": {},
     "output_type": "execute_result"
    }
   ],
   "source": [
    "# 順伝搬テスト\n",
    "Z = model(X)\n",
    "Z.shape"
   ]
  },
  {
   "cell_type": "markdown",
   "id": "1e36f18a-fcfb-482f-8607-1875f07cce41",
   "metadata": {},
   "source": [
    "### MLP学習"
   ]
  },
  {
   "cell_type": "code",
   "execution_count": 12,
   "id": "1ae9c5af-efeb-4ab7-86bd-96892580441a",
   "metadata": {
    "scrolled": true
   },
   "outputs": [
    {
     "name": "stdout",
     "output_type": "stream",
     "text": [
      "epoch: 0: train error: 2.0819409216443696, validation error: 1.7612040042877197, validation accuracy: 0.4333333373069763\n",
      "epoch: 1: train error: 1.5553739741444588, validation error: 0.8127099871635437, validation accuracy: 0.769444465637207\n",
      "epoch: 2: train error: 1.0345445983111858, validation error: 0.6094436049461365, validation accuracy: 0.8500000238418579\n",
      "epoch: 3: train error: 0.7061463488886753, validation error: 0.6218979358673096, validation accuracy: 0.8694444298744202\n",
      "epoch: 4: train error: 0.5231160086890062, validation error: 0.563558042049408, validation accuracy: 0.8805555701255798\n",
      "epoch: 5: train error: 0.4185656029731035, validation error: 0.5533640384674072, validation accuracy: 0.8916666507720947\n",
      "epoch: 6: train error: 0.34865749937792617, validation error: 0.5991749167442322, validation accuracy: 0.8833333253860474\n",
      "epoch: 7: train error: 0.3033877316241463, validation error: 0.47889015078544617, validation accuracy: 0.9138888716697693\n",
      "epoch: 8: train error: 0.2687503344689806, validation error: 0.5091325044631958, validation accuracy: 0.9083333611488342\n",
      "epoch: 9: train error: 0.24235798061514893, validation error: 0.48950910568237305, validation accuracy: 0.9083333611488342\n",
      "epoch: 10: train error: 0.22173249737049142, validation error: 0.4500458538532257, validation accuracy: 0.9055555462837219\n",
      "epoch: 11: train error: 0.20414551518236598, validation error: 0.4401313364505768, validation accuracy: 0.9277777671813965\n",
      "epoch: 12: train error: 0.19140023598447442, validation error: 0.43484559655189514, validation accuracy: 0.9194444417953491\n",
      "epoch: 13: train error: 0.1789293341959516, validation error: 0.43170851469039917, validation accuracy: 0.925000011920929\n",
      "epoch: 14: train error: 0.168252888135612, validation error: 0.42949026823043823, validation accuracy: 0.9277777671813965\n",
      "epoch: 15: train error: 0.15923764882609248, validation error: 0.4271019399166107, validation accuracy: 0.9333333373069763\n",
      "epoch: 16: train error: 0.15053475904278457, validation error: 0.4505118429660797, validation accuracy: 0.9166666865348816\n",
      "epoch: 17: train error: 0.1445337162197878, validation error: 0.444349467754364, validation accuracy: 0.925000011920929\n",
      "epoch: 18: train error: 0.13705132505856454, validation error: 0.5477684736251831, validation accuracy: 0.9194444417953491\n",
      "epoch: 19: train error: 0.13258731054762998, validation error: 0.4174686074256897, validation accuracy: 0.9305555820465088\n",
      "epoch: 20: train error: 0.12728294916450977, validation error: 0.4493759870529175, validation accuracy: 0.9388889074325562\n",
      "epoch: 21: train error: 0.12172624391193192, validation error: 0.4650031626224518, validation accuracy: 0.9333333373069763\n",
      "epoch: 22: train error: 0.11796185195756455, validation error: 0.5548033118247986, validation accuracy: 0.9277777671813965\n",
      "epoch: 23: train error: 0.11414312159953018, validation error: 0.5343769192695618, validation accuracy: 0.9305555820465088\n",
      "epoch: 24: train error: 0.11121582034199189, validation error: 0.47871696949005127, validation accuracy: 0.9416666626930237\n",
      "epoch: 25: train error: 0.10724646730038027, validation error: 0.5282784700393677, validation accuracy: 0.9444444179534912\n",
      "epoch: 26: train error: 0.10350210793937246, validation error: 0.486455500125885, validation accuracy: 0.9472222328186035\n",
      "epoch: 27: train error: 0.10115302947815508, validation error: 0.5680609941482544, validation accuracy: 0.9333333373069763\n",
      "epoch: 28: train error: 0.09724207785135756, validation error: 0.535902202129364, validation accuracy: 0.9416666626930237\n",
      "epoch: 29: train error: 0.0954514128388837, validation error: 0.526572585105896, validation accuracy: 0.9444444179534912\n",
      "epoch: 30: train error: 0.09286883139672379, validation error: 0.5358982682228088, validation accuracy: 0.9388889074325562\n",
      "epoch: 31: train error: 0.09068834754483153, validation error: 0.5474022626876831, validation accuracy: 0.9444444179534912\n",
      "epoch: 32: train error: 0.08725889989485343, validation error: 0.6235164403915405, validation accuracy: 0.9305555820465088\n",
      "epoch: 33: train error: 0.08580896252533421, validation error: 0.5707566142082214, validation accuracy: 0.9333333373069763\n",
      "epoch: 34: train error: 0.08419442149655272, validation error: 0.6012974381446838, validation accuracy: 0.9361110925674438\n",
      "epoch: 35: train error: 0.081505836530899, validation error: 0.5918166041374207, validation accuracy: 0.9388889074325562\n",
      "epoch: 36: train error: 0.07983857888029888, validation error: 0.6401370763778687, validation accuracy: 0.9333333373069763\n",
      "epoch: 37: train error: 0.0791345596856748, validation error: 0.6579042077064514, validation accuracy: 0.9277777671813965\n",
      "epoch: 38: train error: 0.07648100925143808, validation error: 0.6401181817054749, validation accuracy: 0.9305555820465088\n",
      "epoch: 39: train error: 0.07487732874384771, validation error: 0.6160715222358704, validation accuracy: 0.9388889074325562\n",
      "epoch: 40: train error: 0.07329054921865463, validation error: 0.6879146099090576, validation accuracy: 0.9277777671813965\n",
      "epoch: 41: train error: 0.0713030641976123, validation error: 0.6185121536254883, validation accuracy: 0.9388889074325562\n",
      "epoch: 42: train error: 0.06976999870191018, validation error: 0.678407609462738, validation accuracy: 0.9305555820465088\n",
      "epoch: 43: train error: 0.06898206910894562, validation error: 0.6636205911636353, validation accuracy: 0.9388889074325562\n",
      "epoch: 44: train error: 0.06763730908278376, validation error: 0.6995802521705627, validation accuracy: 0.9305555820465088\n",
      "epoch: 45: train error: 0.06610671880965431, validation error: 0.6840335130691528, validation accuracy: 0.9305555820465088\n",
      "epoch: 46: train error: 0.0653096087044105, validation error: 0.7446166276931763, validation accuracy: 0.9277777671813965\n",
      "epoch: 47: train error: 0.06467515414503093, validation error: 0.7342702150344849, validation accuracy: 0.9277777671813965\n",
      "epoch: 48: train error: 0.06235928119470676, validation error: 0.7051204442977905, validation accuracy: 0.9305555820465088\n",
      "epoch: 49: train error: 0.06137308096125101, validation error: 0.6965547204017639, validation accuracy: 0.9277777671813965\n",
      "epoch: 50: train error: 0.060717161279171705, validation error: 0.7407017350196838, validation accuracy: 0.9277777671813965\n",
      "epoch: 51: train error: 0.05937179290534308, validation error: 0.8037927150726318, validation accuracy: 0.9194444417953491\n",
      "epoch: 52: train error: 0.058610035048332065, validation error: 0.7567495703697205, validation accuracy: 0.925000011920929\n",
      "epoch: 53: train error: 0.05764516384806484, validation error: 0.8082166910171509, validation accuracy: 0.9222221970558167\n",
      "epoch: 54: train error: 0.055795752831424274, validation error: 0.7697296142578125, validation accuracy: 0.9277777671813965\n",
      "epoch: 55: train error: 0.05521898769075051, validation error: 0.786044716835022, validation accuracy: 0.925000011920929\n",
      "epoch: 56: train error: 0.05402561956240485, validation error: 0.8465100526809692, validation accuracy: 0.9138888716697693\n",
      "epoch: 57: train error: 0.05359061989778032, validation error: 0.8565919399261475, validation accuracy: 0.9166666865348816\n",
      "epoch: 58: train error: 0.05244968338714292, validation error: 0.8882558941841125, validation accuracy: 0.9222221970558167\n",
      "epoch: 59: train error: 0.05202623800141737, validation error: 0.8265782594680786, validation accuracy: 0.9194444417953491\n",
      "epoch: 60: train error: 0.05060333698444689, validation error: 0.8475863933563232, validation accuracy: 0.9194444417953491\n",
      "epoch: 61: train error: 0.049891381485698126, validation error: 0.8563517332077026, validation accuracy: 0.925000011920929\n",
      "epoch: 62: train error: 0.048951399648406856, validation error: 0.8210702538490295, validation accuracy: 0.925000011920929\n",
      "epoch: 63: train error: 0.048123285678836204, validation error: 0.841823935508728, validation accuracy: 0.925000011920929\n",
      "epoch: 64: train error: 0.04760280870444452, validation error: 0.9058565497398376, validation accuracy: 0.9194444417953491\n",
      "epoch: 65: train error: 0.04591477792322015, validation error: 1.020027995109558, validation accuracy: 0.9111111164093018\n",
      "epoch: 66: train error: 0.04631371470168233, validation error: 0.955156683921814, validation accuracy: 0.9194444417953491\n",
      "epoch: 67: train error: 0.04555772781410875, validation error: 0.94209223985672, validation accuracy: 0.9166666865348816\n",
      "epoch: 68: train error: 0.04435732374743869, validation error: 0.9358014464378357, validation accuracy: 0.9166666865348816\n",
      "epoch: 69: train error: 0.04375521269200059, validation error: 1.0789074897766113, validation accuracy: 0.9138888716697693\n",
      "epoch: 70: train error: 0.043772595265181735, validation error: 0.9928789138793945, validation accuracy: 0.9194444417953491\n",
      "epoch: 71: train error: 0.04251649450937597, validation error: 0.9748260378837585, validation accuracy: 0.9138888716697693\n",
      "epoch: 72: train error: 0.0422111673008961, validation error: 0.9230232238769531, validation accuracy: 0.9194444417953491\n",
      "epoch: 73: train error: 0.04076061256152267, validation error: 0.9082376956939697, validation accuracy: 0.9222221970558167\n",
      "epoch: 74: train error: 0.041071449648976945, validation error: 0.9782610535621643, validation accuracy: 0.9138888716697693\n",
      "epoch: 75: train error: 0.03993756511287453, validation error: 0.9622945189476013, validation accuracy: 0.9166666865348816\n",
      "epoch: 76: train error: 0.039232160605024546, validation error: 1.1669371128082275, validation accuracy: 0.9055555462837219\n",
      "epoch: 77: train error: 0.038926985376747325, validation error: 1.066739559173584, validation accuracy: 0.9138888716697693\n",
      "epoch: 78: train error: 0.03804172599726977, validation error: 0.956690788269043, validation accuracy: 0.9166666865348816\n",
      "epoch: 79: train error: 0.037797225474302344, validation error: 1.0288273096084595, validation accuracy: 0.9166666865348816\n",
      "epoch: 80: train error: 0.037681044661439955, validation error: 1.09849214553833, validation accuracy: 0.9166666865348816\n",
      "epoch: 81: train error: 0.03669500159836995, validation error: 1.1010854244232178, validation accuracy: 0.9138888716697693\n",
      "epoch: 82: train error: 0.036581448279321194, validation error: 1.0727895498275757, validation accuracy: 0.9138888716697693\n",
      "epoch: 83: train error: 0.035858717252267525, validation error: 1.08596670627594, validation accuracy: 0.9138888716697693\n",
      "epoch: 84: train error: 0.03538054870053505, validation error: 1.0333425998687744, validation accuracy: 0.9194444417953491\n",
      "epoch: 85: train error: 0.034859722577190645, validation error: 1.0923577547073364, validation accuracy: 0.9166666865348816\n",
      "epoch: 86: train error: 0.034716895005355276, validation error: 1.0759607553482056, validation accuracy: 0.9166666865348816\n",
      "epoch: 87: train error: 0.03412900596352605, validation error: 1.1051398515701294, validation accuracy: 0.9166666865348816\n",
      "epoch: 88: train error: 0.033419239606397845, validation error: 1.1804245710372925, validation accuracy: 0.9138888716697693\n",
      "epoch: 89: train error: 0.03313288394807993, validation error: 1.0709229707717896, validation accuracy: 0.9166666865348816\n",
      "epoch: 90: train error: 0.03283106011804193, validation error: 1.2063767910003662, validation accuracy: 0.9166666865348816\n",
      "epoch: 91: train error: 0.032357044954551384, validation error: 1.122340202331543, validation accuracy: 0.9166666865348816\n",
      "epoch: 92: train error: 0.03194357067695819, validation error: 1.1557481288909912, validation accuracy: 0.9166666865348816\n",
      "epoch: 93: train error: 0.031049716315465048, validation error: 1.2457482814788818, validation accuracy: 0.9083333611488342\n",
      "epoch: 94: train error: 0.031217196471213054, validation error: 1.139167070388794, validation accuracy: 0.9194444417953491\n",
      "epoch: 95: train error: 0.030495231427873176, validation error: 1.1648602485656738, validation accuracy: 0.9194444417953491\n",
      "epoch: 96: train error: 0.030289755668491125, validation error: 1.232095718383789, validation accuracy: 0.9138888716697693\n",
      "epoch: 97: train error: 0.029977589409099892, validation error: 1.245627999305725, validation accuracy: 0.9166666865348816\n",
      "epoch: 98: train error: 0.0294808215694502, validation error: 1.18369460105896, validation accuracy: 0.9194444417953491\n",
      "epoch: 99: train error: 0.02917830080211085, validation error: 1.195655107498169, validation accuracy: 0.9166666865348816\n"
     ]
    }
   ],
   "source": [
    "class MLP(nn.Module):\n",
    "    def __init__(self, num_in, num_hidden, num_out):\n",
    "        super().__init__()\n",
    "        self.l1 = nn.Linear(num_in, num_hidden)\n",
    "        self.l2 = nn.Linear(num_hidden, num_out)\n",
    "\n",
    "    def forward(self, x):\n",
    "        # z1 = self.l1(x)\n",
    "        # a1 = F.relu(z1)\n",
    "        # z2 = self.l2(a1)\n",
    "        x = self.l2(F.relu(self.l1(x)))\n",
    "        return x\n",
    "\n",
    "## Refactoring後の学習ループ(OptimizerやDataset, Dataloaderは後ほどRefactoring)\n",
    "# ===データの準備====\n",
    "dataset = datasets.load_digits()\n",
    "data = dataset['data']\n",
    "target = dataset['target']\n",
    "images = dataset['images']\n",
    "X_train, X_val, y_train, y_val = train_test_split(images, target, test_size=0.2, random_state=42)\n",
    "X_train = (X_train - X_train.mean()) / X_train.std()\n",
    "X_val = (X_val - X_train.mean()) / X_train.std()\n",
    "X_train = torch.tensor(X_train.reshape(-1, 64), dtype=torch.float32)\n",
    "X_val = torch.tensor(X_val.reshape(-1, 64), dtype=torch.float32)\n",
    "y_train = torch.tensor(y_train) \n",
    "y_val = torch.tensor(y_val) \n",
    "batch_size = 30\n",
    "num_batches = np.ceil(len(y_train)/batch_size).astype(int)\n",
    "model = MLP(64, 30, 10)\n",
    "learning_rate = 0.03\n",
    "\n",
    "# ログ\n",
    "train_losses = []\n",
    "val_losses = []\n",
    "val_accuracies = []\n",
    "for epoch in range(100):\n",
    "    # エポック毎にデータをシャッフル\n",
    "    shuffled_indices = np.random.permutation(len(y_train))\n",
    "    running_loss = 0.0\n",
    "    \n",
    "    for i in range(num_batches):\n",
    "        \n",
    "        # mini batch作成\n",
    "        start = i * batch_size\n",
    "        end = start + batch_size\n",
    "\n",
    "        batch_indices = shuffled_indices[start:end]\n",
    "        y = y_train[batch_indices] # batch_size x 10\n",
    "        \n",
    "        X = X_train[batch_indices] # batch_size x 64\n",
    "        # 順伝播と逆伝播の計算\n",
    "        preds = model(X)\n",
    "        loss = F.cross_entropy(preds, y)\n",
    "        loss.backward()\n",
    "        running_loss += loss.item()\n",
    "\n",
    "        # パラメータ更新\n",
    "        with torch.no_grad():\n",
    "            for param in model.parameters():\n",
    "                param -= learning_rate * param.grad\n",
    "\n",
    "        model.zero_grad()\n",
    "        \n",
    "\n",
    "    # validation\n",
    "    with torch.no_grad():\n",
    "        preds_val = model(X_val)\n",
    "        val_loss = F.cross_entropy(preds_val, y_val)\n",
    "        val_accuracy = torch.sum(torch.argmax(preds_val, dim=-1) == y_val) / y_val.shape[0]\n",
    "\n",
    "    train_losses.append(running_loss/num_batches)\n",
    "    val_losses.append(val_loss.item())\n",
    "    val_accuracies.append(val_accuracy)\n",
    "    print(f'epoch: {epoch}: train error: {running_loss/num_batches}, validation error: {val_loss.item()}, validation accuracy: {val_accuracy}')"
   ]
  },
  {
   "cell_type": "code",
   "execution_count": 13,
   "id": "fd0ef4f7-882a-413f-80a3-6f4ab376cefc",
   "metadata": {},
   "outputs": [
    {
     "data": {
      "text/plain": [
       "[<matplotlib.lines.Line2D at 0xffff5093d280>]"
      ]
     },
     "execution_count": 13,
     "metadata": {},
     "output_type": "execute_result"
    },
    {
     "data": {
      "image/png": "[encoded data removed]",
      "text/plain": [
       "<Figure size 640x480 with 1 Axes>"
      ]
     },
     "metadata": {},
     "output_type": "display_data"
    }
   ],
   "source": [
    "plt.plot(train_losses)\n",
    "plt.plot(val_losses)"
   ]
  },
  {
   "cell_type": "markdown",
   "id": "7222ffdf-c5dd-46e3-a1df-1265f9e0cb47",
   "metadata": {},
   "source": [
    "### パラメータのイテレーション"
   ]
  },
  {
   "cell_type": "code",
   "execution_count": 14,
   "id": "1d3017d9-f46b-4e24-9ed3-fcc1b2dc33dd",
   "metadata": {},
   "outputs": [
    {
     "data": {
      "text/plain": [
       "MLP(\n",
       "  (l1): Linear(in_features=64, out_features=30, bias=True)\n",
       "  (l2): Linear(in_features=30, out_features=10, bias=True)\n",
       ")"
      ]
     },
     "execution_count": 14,
     "metadata": {},
     "output_type": "execute_result"
    }
   ],
   "source": [
    "model"
   ]
  },
  {
   "cell_type": "code",
   "execution_count": 15,
   "id": "b8e80f81-1947-4bd3-bad7-136be501f503",
   "metadata": {},
   "outputs": [
    {
     "name": "stdout",
     "output_type": "stream",
     "text": [
      "torch.Size([30, 64])\n",
      "torch.Size([30])\n",
      "torch.Size([10, 30])\n",
      "torch.Size([10])\n"
     ]
    }
   ],
   "source": [
    "for param in model.parameters():\n",
    "    print(param.shape)"
   ]
  },
  {
   "cell_type": "code",
   "execution_count": 16,
   "id": "1c57b271-2551-448b-99c7-d4a12094c695",
   "metadata": {},
   "outputs": [
    {
     "name": "stdout",
     "output_type": "stream",
     "text": [
      "l1.weight torch.Size([30, 64])\n",
      "l1.bias torch.Size([30])\n",
      "l2.weight torch.Size([10, 30])\n",
      "l2.bias torch.Size([10])\n"
     ]
    }
   ],
   "source": [
    "for name, param in model.named_parameters():\n",
    "    print(name, param.shape)"
   ]
  },
  {
   "cell_type": "markdown",
   "id": "87d16a27-7d40-447f-a864-b2210f801cb1",
   "metadata": {},
   "source": [
    "### コンポーネントのイテレーション"
   ]
  },
  {
   "cell_type": "code",
   "execution_count": 17,
   "id": "5cc957d6-17fb-4ed6-b9fc-faceb8b6d0ec",
   "metadata": {},
   "outputs": [
    {
     "name": "stdout",
     "output_type": "stream",
     "text": [
      "Linear(in_features=64, out_features=30, bias=True)\n",
      "Linear(in_features=30, out_features=10, bias=True)\n"
     ]
    }
   ],
   "source": [
    "for module in model.children():\n",
    "    print(module)"
   ]
  },
  {
   "cell_type": "code",
   "execution_count": 18,
   "id": "321c64d8-3db7-4d3e-a400-6c22e0875cb8",
   "metadata": {},
   "outputs": [
    {
     "name": "stdout",
     "output_type": "stream",
     "text": [
      "l1 Linear(in_features=64, out_features=30, bias=True)\n",
      "l2 Linear(in_features=30, out_features=10, bias=True)\n"
     ]
    }
   ],
   "source": [
    "for name, module in model.named_children():\n",
    "    print(name, module)"
   ]
  },
  {
   "cell_type": "code",
   "execution_count": 19,
   "id": "1f802b47-d32b-4032-a844-721892a348df",
   "metadata": {},
   "outputs": [
    {
     "name": "stdout",
     "output_type": "stream",
     "text": [
      "MLP(\n",
      "  (l1): Linear(in_features=64, out_features=30, bias=True)\n",
      "  (l2): Linear(in_features=30, out_features=10, bias=True)\n",
      ")\n",
      "Linear(in_features=64, out_features=30, bias=True)\n",
      "Linear(in_features=30, out_features=10, bias=True)\n"
     ]
    }
   ],
   "source": [
    "# 最初に自分自身を返す\n",
    "for module in model.modules():\n",
    "    print(module)"
   ]
  },
  {
   "cell_type": "code",
   "execution_count": 20,
   "id": "d9ff6a7f-d62a-4296-9fd8-036d5c5be6c3",
   "metadata": {},
   "outputs": [
    {
     "name": "stdout",
     "output_type": "stream",
     "text": [
      "\n",
      "l1\n",
      "l2\n"
     ]
    }
   ],
   "source": [
    "# 自分自身には名前がついていない\n",
    "for name, module in model.named_modules():\n",
    "    print(name)"
   ]
  }
 ],
 "metadata": {
  "kernelspec": {
   "display_name": "Python 3 (ipykernel)",
   "language": "python",
   "name": "python3"
  },
  "language_info": {
   "codemirror_mode": {
    "name": "ipython",
    "version": 3
   },
   "file_extension": ".py",
   "mimetype": "text/x-python",
   "name": "python",
   "nbconvert_exporter": "python",
   "pygments_lexer": "ipython3",
   "version": "3.8.16"
  }
 },
 "nbformat": 4,
 "nbformat_minor": 5
}
