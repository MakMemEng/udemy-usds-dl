{
 "cells": [
  {
   "cell_type": "markdown",
   "id": "8ef866ef-91aa-429f-8c3f-5d73312b483e",
   "metadata": {},
   "source": [
    "## MNISTで多クラス分類"
   ]
  },
  {
   "cell_type": "code",
   "execution_count": 1,
   "id": "c8ed3496-13c3-4b2c-83b2-e0af346c6b1b",
   "metadata": {},
   "outputs": [],
   "source": [
    "import numpy as np\n",
    "import torch\n",
    "from torch.nn import functional as F\n",
    "from sklearn import datasets\n",
    "from sklearn.model_selection import train_test_split\n",
    "import matplotlib.pyplot as plt"
   ]
  },
  {
   "cell_type": "markdown",
   "id": "2fd00db1-7dff-4000-9c5d-3247a581a9e5",
   "metadata": {},
   "source": [
    "### ベースの学習ループ"
   ]
  },
  {
   "cell_type": "code",
   "execution_count": 2,
   "id": "f496c493-31f3-4fbb-b656-960c1f5ad2c7",
   "metadata": {},
   "outputs": [],
   "source": [
    "# 1. データロード\n",
    "dataset = datasets.load_digits()\n",
    "images = dataset['images']\n",
    "target = dataset['target']"
   ]
  },
  {
   "cell_type": "code",
   "execution_count": 3,
   "id": "6885481e-8535-4a8f-87cf-a70ed8dc8854",
   "metadata": {},
   "outputs": [
    {
     "name": "stdout",
     "output_type": "stream",
     "text": [
      "(1797, 8, 8)\n"
     ]
    },
    {
     "data": {
      "image/png": "[encoded data removed]",
      "text/plain": [
       "<Figure size 640x480 with 1 Axes>"
      ]
     },
     "metadata": {},
     "output_type": "display_data"
    }
   ],
   "source": [
    "# データ可視化\n",
    "plt.imshow(images[2], cmap='gray')\n",
    "print(images.shape)"
   ]
  },
  {
   "cell_type": "code",
   "execution_count": 4,
   "id": "c89a4817-bb98-4257-9c42-6872554dcefe",
   "metadata": {},
   "outputs": [
    {
     "data": {
      "text/plain": [
       "array([0, 1, 2, ..., 8, 9, 8])"
      ]
     },
     "execution_count": 4,
     "metadata": {},
     "output_type": "execute_result"
    }
   ],
   "source": [
    "# 正解ラベル\n",
    "target"
   ]
  },
  {
   "cell_type": "code",
   "execution_count": 5,
   "id": "9f35647a-8978-4c8e-9d47-9be0f3d09e17",
   "metadata": {},
   "outputs": [],
   "source": [
    "# 2. 前処理\n",
    "# 2-1.ラベルのone-hot encoing\n",
    "y_true = F.one_hot(torch.tensor(target), num_classes=10)\n",
    "# NumPyのデフォルトはfloat64, torchはfloat32で，演算時にエラーになるのでfloat32に揃える\n",
    "images = torch.tensor(images, dtype=torch.float32).reshape(-1, 64)\n",
    "# 2-2. 画像の標準化\n",
    "images = (images - images.mean()) / images.std()"
   ]
  },
  {
   "cell_type": "code",
   "execution_count": 6,
   "id": "981c7682-7465-4974-8907-ae34e5e031c5",
   "metadata": {},
   "outputs": [],
   "source": [
    "learning_rate = 0.03\n",
    "loss_log = []"
   ]
  },
  {
   "cell_type": "code",
   "execution_count": 7,
   "id": "f4dba87d-554d-4196-8fe9-e0333ae630e7",
   "metadata": {},
   "outputs": [],
   "source": [
    "# 3. パラメータの初期化\n",
    "W = torch.rand((10, 64), requires_grad=True) # 出力x入力\n",
    "b = torch.rand((1, 10), requires_grad=True) # 1 x 出力"
   ]
  },
  {
   "cell_type": "code",
   "execution_count": 8,
   "id": "08553e73-6aaf-484f-bbd4-b4b07eab6eb2",
   "metadata": {},
   "outputs": [],
   "source": [
    "# 4. softmaxとcross entropy\n",
    "def softmax(x):\n",
    "    e_x = torch.exp(x - torch.max(x, dim=-1, keepdim=True)[0])\n",
    "    return e_x / (torch.sum(e_x, dim=-1, keepdim=True) + 1e-10)\n",
    "\n",
    "def cross_entropy(y_true, y_pred):\n",
    "    return -torch.sum(y_true * torch.log(y_pred + 1e-10)) / y_true.shape[0]"
   ]
  },
  {
   "cell_type": "code",
   "execution_count": 9,
   "id": "c5a90537-aa3f-4dde-9558-ee94ab1dc710",
   "metadata": {},
   "outputs": [
    {
     "name": "stdout",
     "output_type": "stream",
     "text": [
      "epoch: 1: 0.39656129619975555\n",
      "epoch: 2: 0.13853320235406702\n",
      "epoch: 3: 0.10807288386777535\n",
      "epoch: 4: 0.09149437798308079\n",
      "epoch: 5: 0.08024101983448537\n"
     ]
    }
   ],
   "source": [
    "# 5. for文で学習ループ作成\n",
    "for epoch in range(5):\n",
    "    running_loss = 0\n",
    "    for i in range(len(target)):\n",
    "        # 6. 入力データXおよび教師ラベルのYを作成\n",
    "        y_true_ = y_true[i].reshape(-1, 10) # データ数xクラス数\n",
    "        X = images[i].reshape(-1, 64) # データ数 x 特徴量数\n",
    "\n",
    "        # 7. Z計算\n",
    "        Z = X@W.T + b\n",
    "\n",
    "        # 8. softmaxで予測計算\n",
    "        y_pred = softmax(Z)\n",
    "\n",
    "        # 9. 損失計算\n",
    "        loss = cross_entropy(y_true_, y_pred)\n",
    "        loss_log.append(loss.item())\n",
    "        running_loss += loss.item()\n",
    "        \n",
    "        # 10. 勾配計算\n",
    "        loss.backward()\n",
    "\n",
    "        # 11. パラメータ更新\n",
    "        with torch.no_grad():\n",
    "            W -= learning_rate * W.grad\n",
    "            b -= learning_rate * b.grad\n",
    "\n",
    "        # 12. 勾配初期化\n",
    "        W.grad.zero_()\n",
    "        b.grad.zero_()\n",
    "\n",
    "    # 13. 損失ログ出力\n",
    "    print(f'epoch: {epoch+1}: {running_loss/len(target)}')\n",
    "        "
   ]
  },
  {
   "cell_type": "code",
   "execution_count": 10,
   "id": "f644e84c-4f00-43e8-aa96-e98c137c13b8",
   "metadata": {},
   "outputs": [
    {
     "name": "stderr",
     "output_type": "stream",
     "text": [
      "/tmp/ipykernel_1237/844738670.py:2: UserWarning: To copy construct from a tensor, it is recommended to use sourceTensor.clone().detach() or sourceTensor.clone().detach().requires_grad_(True), rather than torch.tensor(sourceTensor).\n",
      "  X = torch.tensor(images, dtype=torch.float32)\n"
     ]
    },
    {
     "data": {
      "text/plain": [
       "tensor(0.9755)"
      ]
     },
     "execution_count": 10,
     "metadata": {},
     "output_type": "execute_result"
    }
   ],
   "source": [
    "# 学習したモデルで全データのaccuracyを計算する（学習に使っているデータに対してのAccuracyであることに注意）\n",
    "X = torch.tensor(images, dtype=torch.float32)\n",
    "Z = X@W.T + b\n",
    "y_pred = softmax(Z)\n",
    "# accuracy = 正しく分類できた数/全サンプル数\n",
    "torch.sum(torch.argmax(y_pred, dim=-1) == torch.argmax(y_true, dim=-1)) / y_true.shape[0]"
   ]
  },
  {
   "cell_type": "code",
   "execution_count": 11,
   "id": "1b220e35-85b8-4e2b-aeee-b9ed6acadeae",
   "metadata": {
    "scrolled": true
   },
   "outputs": [
    {
     "data": {
      "text/plain": [
       "[<matplotlib.lines.Line2D at 0xffff50481460>]"
      ]
     },
     "execution_count": 11,
     "metadata": {},
     "output_type": "execute_result"
    },
    {
     "data": {
      "image/png": "[encoded data removed]",
      "text/plain": [
       "<Figure size 640x480 with 1 Axes>"
      ]
     },
     "metadata": {},
     "output_type": "display_data"
    }
   ],
   "source": [
    "plt.plot(loss_log)"
   ]
  },
  {
   "cell_type": "markdown",
   "id": "c139c97a-51b6-4c27-8cae-e099502800a3",
   "metadata": {},
   "source": [
    "### mini-batch学習"
   ]
  },
  {
   "cell_type": "code",
   "execution_count": 12,
   "id": "35972ce0-7c9c-488b-90a0-f76df24e6566",
   "metadata": {},
   "outputs": [
    {
     "data": {
      "text/plain": [
       "array([ 331, 1434,  213, ...,  811, 1723, 1050])"
      ]
     },
     "execution_count": 12,
     "metadata": {},
     "output_type": "execute_result"
    }
   ],
   "source": [
    "# ランダムにソートされたindexを使ってデータを取得することで，X, yを同時にshuffleすることが可能\n",
    "np.random.permutation(len(target))"
   ]
  },
  {
   "cell_type": "code",
   "execution_count": 13,
   "id": "facf2632-2b87-4932-86ab-c5c9438d6e4c",
   "metadata": {},
   "outputs": [
    {
     "name": "stdout",
     "output_type": "stream",
     "text": [
      "epoch: 1: 2.417827280362447\n",
      "epoch: 2: 1.1163650155067444\n",
      "epoch: 3: 0.7393498991926511\n",
      "epoch: 4: 0.5697161932786305\n",
      "epoch: 5: 0.4747459597885609\n"
     ]
    }
   ],
   "source": [
    "loss_log = []\n",
    "batch_size = 30\n",
    "num_batches = np.ceil(len(target) / batch_size).astype(int)\n",
    "# 3. パラメータの初期化\n",
    "W = torch.rand((10, 64), requires_grad=True) # 出力x入力\n",
    "b = torch.rand((1, 10), requires_grad=True) # 1 x 出力\n",
    "# 5. for文で学習ループ作成\n",
    "for epoch in range(5):\n",
    "    shuffled_indices = np.random.permutation(len(target))\n",
    "    running_loss = 0\n",
    "    for i in range(num_batches):\n",
    "\n",
    "        # mini batch作成\n",
    "        start = i * batch_size\n",
    "        end = start + batch_size\n",
    "        batch_indices = shuffled_indices[start:end]\n",
    "        # 6. 入力データXおよび教師ラベルのYを作成\n",
    "        y_true_ = y_true[batch_indices, :] # データ数xクラス数\n",
    "        X = images[batch_indices, :] # データ数 x 特徴量数\n",
    "        # ブレークポイントを設置\n",
    "        # import pdb; pdb.set_trace()\n",
    "\n",
    "        # 7. Z計算\n",
    "        Z = X@W.T + b\n",
    "\n",
    "        # 8. softmaxで予測計算\n",
    "        y_pred = softmax(Z)\n",
    "\n",
    "        # 9. 損失計算\n",
    "        loss = cross_entropy(y_true_, y_pred)\n",
    "        loss_log.append(loss.item())\n",
    "        running_loss += loss.item()\n",
    "        \n",
    "        # 10. 勾配計算\n",
    "        loss.backward()\n",
    "\n",
    "        # 11. パラメータ更新\n",
    "        with torch.no_grad():\n",
    "            W -= learning_rate * W.grad\n",
    "            b -= learning_rate * b.grad\n",
    "\n",
    "        # 12. 勾配初期化\n",
    "        W.grad.zero_()\n",
    "        b.grad.zero_()\n",
    "\n",
    "    # 13. 損失ログ出力\n",
    "    print(f'epoch: {epoch+1}: {running_loss/num_batches}')"
   ]
  },
  {
   "cell_type": "code",
   "execution_count": 14,
   "id": "71196c1e-7386-435f-9719-b835e61f8154",
   "metadata": {},
   "outputs": [
    {
     "name": "stderr",
     "output_type": "stream",
     "text": [
      "/tmp/ipykernel_1237/3927234863.py:1: UserWarning: To copy construct from a tensor, it is recommended to use sourceTensor.clone().detach() or sourceTensor.clone().detach().requires_grad_(True), rather than torch.tensor(sourceTensor).\n",
      "  X = torch.tensor(images, dtype=torch.float32)\n"
     ]
    },
    {
     "data": {
      "text/plain": [
       "tensor(0.8865)"
      ]
     },
     "execution_count": 14,
     "metadata": {},
     "output_type": "execute_result"
    }
   ],
   "source": [
    "X = torch.tensor(images, dtype=torch.float32)\n",
    "Z = X@W.T + b\n",
    "y_pred = softmax(Z)\n",
    "# Accuracy\n",
    "torch.sum(torch.argmax(y_pred, dim=-1) == torch.argmax(y_true, dim=-1)) / y_true.shape[0]"
   ]
  },
  {
   "cell_type": "markdown",
   "id": "d8a0d5a5-c4f5-4ff2-9e37-37da51c19289",
   "metadata": {},
   "source": [
    "### 学習データと検証データを分ける"
   ]
  },
  {
   "cell_type": "code",
   "execution_count": 15,
   "id": "c4c8bd17-46a9-40b7-8a21-1a4cdbe1a167",
   "metadata": {},
   "outputs": [],
   "source": [
    "# 1. データロード\n",
    "dataset = datasets.load_digits()\n",
    "images = dataset['images']\n",
    "target = dataset['target']"
   ]
  },
  {
   "cell_type": "code",
   "execution_count": 16,
   "id": "1a959f06-8f34-4204-96d8-3345a78d0ece",
   "metadata": {},
   "outputs": [
    {
     "name": "stdout",
     "output_type": "stream",
     "text": [
      "(1437, 8, 8) (1437,)\n",
      "(360, 8, 8) (360,)\n"
     ]
    }
   ],
   "source": [
    "# 学習データと検証データ分割\n",
    "X_train, X_val, y_train, y_val = train_test_split(images, target, test_size=0.2, random_state=42)\n",
    "print(X_train.shape, y_train.shape)\n",
    "print(X_val.shape, y_val.shape)"
   ]
  },
  {
   "cell_type": "code",
   "execution_count": 17,
   "id": "866dfb30-9086-4a35-9ee6-06076f2a95bd",
   "metadata": {},
   "outputs": [],
   "source": [
    "# 前処理\n",
    "# 2-1.ラベルのone-hot encoing\n",
    "y_train = F.one_hot(torch.tensor(y_train), num_classes=10)\n",
    "X_train = torch.tensor(X_train, dtype=torch.float32).reshape(-1, 64)\n",
    "\n",
    "y_val = F.one_hot(torch.tensor(y_val), num_classes=10)\n",
    "X_val = torch.tensor(X_val, dtype=torch.float32).reshape(-1, 64)\n",
    "\n",
    "# 2-2. 画像の標準化\n",
    "X_train = (X_train - X_train.mean()) / X_train.std()\n",
    "X_val = (X_val - X_train.mean()) / X_train.std()\n",
    "# 以下のように手元のデータ全ての平均&標準偏差を使えば，学習データと検証データの分布を近くすることが可能\n",
    "# しかし，この場合validationの精度は，未知のデータよりも若干高くなることに注意\n",
    "# X_train = (X_train - images.mean()) / images.std()\n",
    "# X_val = (X_val - images.mean()) / images.std()"
   ]
  },
  {
   "cell_type": "code",
   "execution_count": 18,
   "id": "fa5013a3-b935-4d59-afe3-09e27bccdbe7",
   "metadata": {},
   "outputs": [
    {
     "name": "stdout",
     "output_type": "stream",
     "text": [
      "tensor(6.9020e-08) tensor(4.8559)\n"
     ]
    }
   ],
   "source": [
    "print(X_train.mean(), X_val.mean())"
   ]
  },
  {
   "cell_type": "code",
   "execution_count": 19,
   "id": "250d48b9-4d5e-4a99-83c3-fcc7907f5ba1",
   "metadata": {},
   "outputs": [
    {
     "name": "stdout",
     "output_type": "stream",
     "text": [
      "epoch: 1: train loss:2.5727387790878615, val loss: 9.850950241088867, val accuracy: 0.29722222685813904\n",
      "epoch: 2: train loss:1.3422037151952584, val loss: 5.8252644538879395, val accuracy: 0.4472222328186035\n",
      "epoch: 3: train loss:0.8980314917862415, val loss: 3.672231435775757, val accuracy: 0.5805555582046509\n",
      "epoch: 4: train loss:0.6879242385427157, val loss: 2.5832886695861816, val accuracy: 0.6777777671813965\n",
      "epoch: 5: train loss:0.5680481431384882, val loss: 1.9716659784317017, val accuracy: 0.7333333492279053\n",
      "epoch: 6: train loss:0.4907635835309823, val loss: 1.6233280897140503, val accuracy: 0.7722222208976746\n",
      "epoch: 7: train loss:0.4366974054525296, val loss: 1.3963754177093506, val accuracy: 0.800000011920929\n",
      "epoch: 8: train loss:0.39521010251094896, val loss: 1.242463231086731, val accuracy: 0.8333333134651184\n",
      "epoch: 9: train loss:0.36402303632348776, val loss: 1.1189461946487427, val accuracy: 0.8444444537162781\n",
      "epoch: 10: train loss:0.3384400174642603, val loss: 0.9998916387557983, val accuracy: 0.855555534362793\n",
      "epoch: 11: train loss:0.31792662385851145, val loss: 0.9469960331916809, val accuracy: 0.8666666746139526\n",
      "epoch: 12: train loss:0.300129902549088, val loss: 0.888994574546814, val accuracy: 0.8805555701255798\n",
      "epoch: 13: train loss:0.284830395753185, val loss: 0.842667818069458, val accuracy: 0.894444465637207\n",
      "epoch: 14: train loss:0.2723557098458211, val loss: 0.7956693768501282, val accuracy: 0.9055555462837219\n",
      "epoch: 15: train loss:0.2605759246895711, val loss: 0.7758200168609619, val accuracy: 0.9083333611488342\n",
      "epoch: 16: train loss:0.24968623959769806, val loss: 0.7734377384185791, val accuracy: 0.9027777910232544\n",
      "epoch: 17: train loss:0.2409676027794679, val loss: 0.7224031090736389, val accuracy: 0.9083333611488342\n",
      "epoch: 18: train loss:0.23331775097176433, val loss: 0.6998472213745117, val accuracy: 0.9111111164093018\n",
      "epoch: 19: train loss:0.22578502648199597, val loss: 0.6873652935028076, val accuracy: 0.9083333611488342\n",
      "epoch: 20: train loss:0.21913064612696567, val loss: 0.692602813243866, val accuracy: 0.9194444417953491\n",
      "epoch: 21: train loss:0.21311705264573297, val loss: 0.6850417852401733, val accuracy: 0.9194444417953491\n",
      "epoch: 22: train loss:0.20674991436923543, val loss: 0.6778112053871155, val accuracy: 0.9166666865348816\n",
      "epoch: 23: train loss:0.20195087293783823, val loss: 0.6479998826980591, val accuracy: 0.9222221970558167\n",
      "epoch: 24: train loss:0.19692763779312372, val loss: 0.6532691121101379, val accuracy: 0.9222221970558167\n",
      "epoch: 25: train loss:0.1927411761134863, val loss: 0.6631689071655273, val accuracy: 0.9194444417953491\n",
      "epoch: 26: train loss:0.18850062570224205, val loss: 0.6524028182029724, val accuracy: 0.9222221970558167\n",
      "epoch: 27: train loss:0.18469578896959624, val loss: 0.6394938826560974, val accuracy: 0.9222221970558167\n",
      "epoch: 28: train loss:0.18030898668803275, val loss: 0.6528963446617126, val accuracy: 0.9222221970558167\n",
      "epoch: 29: train loss:0.1771672535687685, val loss: 0.6421765685081482, val accuracy: 0.9222221970558167\n",
      "epoch: 30: train loss:0.17343923278773823, val loss: 0.6443378925323486, val accuracy: 0.925000011920929\n"
     ]
    }
   ],
   "source": [
    "batch_size = 30\n",
    "num_batches = np.ceil(len(y_train) / batch_size).astype(int)\n",
    "loss_log = []\n",
    "# 3. パラメータの初期化\n",
    "W = torch.rand((10, 64), requires_grad=True) # 出力x入力\n",
    "b = torch.rand((1, 10), requires_grad=True) # 1 x 出力\n",
    "# ログ\n",
    "train_losses = []\n",
    "val_losses = []\n",
    "val_accuracies = []\n",
    "# 5. for文で学習ループ作成\n",
    "epochs = 30\n",
    "for epoch in range(epochs):\n",
    "    shuffled_indices = np.random.permutation(len(y_train))\n",
    "    running_loss = 0\n",
    "    for i in range(num_batches):\n",
    "\n",
    "        # mini batch作成\n",
    "        start = i * batch_size\n",
    "        end = start + batch_size\n",
    "        batch_indices = shuffled_indices[start:end]\n",
    "        # 6. 入力データXおよび教師ラベルのYを作成\n",
    "        y_true_ = y_train[batch_indices, :] # データ数xクラス数\n",
    "        X = X_train[batch_indices, :] # データ数 x 特徴量数\n",
    "        # import pdb; pdb.set_trace()\n",
    "\n",
    "        # 7. Z計算\n",
    "        Z = X@W.T + b\n",
    "\n",
    "        # 8. softmaxで予測計算\n",
    "        y_pred = softmax(Z)\n",
    "\n",
    "        # 9. 損失計算\n",
    "        loss = cross_entropy(y_true_, y_pred)\n",
    "        loss_log.append(loss.item())\n",
    "        running_loss += loss.item()\n",
    "        \n",
    "        # 10. 勾配計算\n",
    "        loss.backward()\n",
    "\n",
    "        # 11. パラメータ更新\n",
    "        with torch.no_grad():\n",
    "            W -= learning_rate * W.grad\n",
    "            b -= learning_rate * b.grad\n",
    "\n",
    "        # 12. 勾配初期化\n",
    "        W.grad.zero_()\n",
    "        b.grad.zero_()\n",
    "    # validation\n",
    "    with torch.no_grad():\n",
    "        Z_val = X_val@W.T + b\n",
    "        y_pred_val = softmax(Z_val)\n",
    "\n",
    "        val_loss = cross_entropy(y_val, y_pred_val)\n",
    "        val_accuracy = torch.sum(torch.argmax(y_pred_val, dim=-1) == torch.argmax(y_val, dim=-1)) / y_val.shape[0]\n",
    "\n",
    "    train_losses.append(running_loss/num_batches)\n",
    "    val_losses.append(val_loss.item())\n",
    "    val_accuracies.append(val_accuracy.item())\n",
    "        \n",
    "    # 13. 損失ログ出力\n",
    "    print(f'epoch: {epoch+1}: train loss:{running_loss/num_batches}, val loss: {val_loss.item()}, val accuracy: {val_accuracy.item()}')"
   ]
  },
  {
   "cell_type": "code",
   "execution_count": 20,
   "id": "53fc62aa-5f91-4d8f-953b-32be92ea5cb6",
   "metadata": {},
   "outputs": [
    {
     "data": {
      "text/plain": [
       "[<matplotlib.lines.Line2D at 0xffff504b3f40>]"
      ]
     },
     "execution_count": 20,
     "metadata": {},
     "output_type": "execute_result"
    },
    {
     "data": {
      "image/png": "[encoded data removed]",
      "text/plain": [
       "<Figure size 640x480 with 1 Axes>"
      ]
     },
     "metadata": {},
     "output_type": "display_data"
    }
   ],
   "source": [
    "plt.plot(train_losses)\n",
    "plt.plot(val_losses)"
   ]
  },
  {
   "cell_type": "code",
   "execution_count": null,
   "id": "4384c393-a288-4a5b-80b8-b30f5973d292",
   "metadata": {},
   "outputs": [],
   "source": []
  }
 ],
 "metadata": {
  "kernelspec": {
   "display_name": "Python 3 (ipykernel)",
   "language": "python",
   "name": "python3"
  },
  "language_info": {
   "codemirror_mode": {
    "name": "ipython",
    "version": 3
   },
   "file_extension": ".py",
   "mimetype": "text/x-python",
   "name": "python",
   "nbconvert_exporter": "python",
   "pygments_lexer": "ipython3",
   "version": "3.8.16"
  }
 },
 "nbformat": 4,
 "nbformat_minor": 5
}
