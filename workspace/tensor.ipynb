{
 "cells": [
  {
   "cell_type": "markdown",
   "id": "23918f17",
   "metadata": {},
   "source": [
    "## Tensor基礎"
   ]
  },
  {
   "cell_type": "code",
   "execution_count": 22,
   "id": "80cf50de-e353-47ac-a504-bb2ec5d4e7c4",
   "metadata": {},
   "outputs": [
    {
     "data": {
      "text/plain": [
       "<torch._C.Generator at 0x4102af5f10>"
      ]
     },
     "execution_count": 22,
     "metadata": {},
     "output_type": "execute_result"
    }
   ],
   "source": [
    "import torch\n",
    "import numpy as np\n",
    "torch.manual_seed(42)"
   ]
  },
  {
   "cell_type": "markdown",
   "id": "7a1026c2",
   "metadata": {},
   "source": [
    "### Tensor作成"
   ]
  },
  {
   "cell_type": "code",
   "execution_count": 3,
   "id": "e8708e79-4f8a-49bf-a29e-534f664ae692",
   "metadata": {},
   "outputs": [
    {
     "data": {
      "text/plain": [
       "tensor([1, 2, 3, 4])"
      ]
     },
     "execution_count": 3,
     "metadata": {},
     "output_type": "execute_result"
    }
   ],
   "source": [
    "my_list = [1, 2, 3, 4]\n",
    "tensor_from_list = torch.tensor(my_list)\n",
    "tensor_from_list"
   ]
  },
  {
   "cell_type": "code",
   "execution_count": 5,
   "id": "218f37bb-7498-40cc-bfa7-27f8fbbd692b",
   "metadata": {},
   "outputs": [
    {
     "data": {
      "text/plain": [
       "torch.Tensor"
      ]
     },
     "execution_count": 5,
     "metadata": {},
     "output_type": "execute_result"
    }
   ],
   "source": [
    "type(tensor_from_list)"
   ]
  },
  {
   "cell_type": "code",
   "execution_count": 6,
   "id": "0e608e9f-6d27-4ae1-ae90-b89b45191ea2",
   "metadata": {},
   "outputs": [
    {
     "data": {
      "text/plain": [
       "torch.int64"
      ]
     },
     "execution_count": 6,
     "metadata": {},
     "output_type": "execute_result"
    }
   ],
   "source": [
    "# intのリストで作成したTensorのデータ形はint64\n",
    "tensor_from_list.dtype"
   ]
  },
  {
   "cell_type": "code",
   "execution_count": 7,
   "id": "524ee031-ff56-47cf-adb9-4f0698492428",
   "metadata": {},
   "outputs": [
    {
     "data": {
      "text/plain": [
       "tensor([1., 2., 3., 4.])"
      ]
     },
     "execution_count": 7,
     "metadata": {},
     "output_type": "execute_result"
    }
   ],
   "source": [
    "# floatのlistで作ったtensorはfloat32\n",
    "my_list = [1., 2., 3., 4.]\n",
    "tensor_from_list = torch.tensor(my_list)\n",
    "tensor_from_list"
   ]
  },
  {
   "cell_type": "code",
   "execution_count": 8,
   "id": "a641b48f-7dd6-4dde-b8a9-10cfd1b4f23f",
   "metadata": {},
   "outputs": [
    {
     "data": {
      "text/plain": [
       "torch.Tensor"
      ]
     },
     "execution_count": 8,
     "metadata": {},
     "output_type": "execute_result"
    }
   ],
   "source": [
    "type(tensor_from_list)"
   ]
  },
  {
   "cell_type": "code",
   "execution_count": 9,
   "id": "99fce2f1-8105-42a9-9979-56fa5963aedc",
   "metadata": {},
   "outputs": [
    {
     "data": {
      "text/plain": [
       "torch.float32"
      ]
     },
     "execution_count": 9,
     "metadata": {},
     "output_type": "execute_result"
    }
   ],
   "source": [
    "tensor_from_list.dtype"
   ]
  },
  {
   "cell_type": "code",
   "execution_count": 10,
   "id": "5c04c3fc-cd3e-4097-8692-b48ea4084134",
   "metadata": {},
   "outputs": [],
   "source": [
    "# dtype引数でデータ型を指定\n",
    "tensor_from_list = torch.tensor(my_list, dtype=torch.float64)"
   ]
  },
  {
   "cell_type": "code",
   "execution_count": null,
   "id": "e7fabb38",
   "metadata": {},
   "outputs": [
    {
     "data": {
      "text/plain": [
       "torch.float64"
      ]
     },
     "metadata": {},
     "output_type": "display_data"
    }
   ],
   "source": [
    "tensor_from_list.dtype"
   ]
  },
  {
   "cell_type": "code",
   "execution_count": null,
   "id": "b2864276",
   "metadata": {},
   "outputs": [],
   "source": [
    "zeros_tensor = torch.zeros((2, 3))\n",
    "ones_tensor = torch.ones((2, 3))\n",
    "eye_tensor = torch.eye(3)\n",
    "random_tensor = torch.rand((2, 3))"
   ]
  },
  {
   "cell_type": "code",
   "execution_count": null,
   "id": "b15e526e",
   "metadata": {},
   "outputs": [
    {
     "name": "stdout",
     "output_type": "stream",
     "text": [
      "tensor([[0., 0., 0.],\n",
      "        [0., 0., 0.]]) torch.float32\n",
      "tensor([[1., 1., 1.],\n",
      "        [1., 1., 1.]]) torch.float32\n",
      "tensor([[1., 0., 0.],\n",
      "        [0., 1., 0.],\n",
      "        [0., 0., 1.]]) torch.float32\n",
      "tensor([[0.8823, 0.9150, 0.3829],\n",
      "        [0.9593, 0.3904, 0.6009]]) torch.float32\n"
     ]
    }
   ],
   "source": [
    "print(zeros_tensor, zeros_tensor.dtype)\n",
    "print(ones_tensor, ones_tensor.dtype)\n",
    "print(eye_tensor, eye_tensor.dtype)\n",
    "print(random_tensor, random_tensor.dtype)"
   ]
  },
  {
   "cell_type": "code",
   "execution_count": null,
   "id": "7c09807b",
   "metadata": {},
   "outputs": [
    {
     "name": "stdout",
     "output_type": "stream",
     "text": [
      "[[0. 0. 0.]\n",
      " [0. 0. 0.]] float64\n",
      "[[1. 1. 1.]\n",
      " [1. 1. 1.]] float64\n",
      "[[1. 0. 0.]\n",
      " [0. 1. 0.]\n",
      " [0. 0. 1.]] float64\n",
      "[[0.24085669 0.0794469  0.79100958]\n",
      " [0.93216654 0.4858942  0.60557645]] float64\n"
     ]
    }
   ],
   "source": [
    "# NumPyとの対応\n",
    "np_zeros = np.zeros((2, 3))\n",
    "np_ones = np.ones((2, 3))\n",
    "np_eye = np.eye(3)\n",
    "np_random = np.random.rand(2, 3)\n",
    "# Numpy Arrayのデフォルトはfloat64であることに注意\n",
    "print(np_zeros, np_zeros.dtype)\n",
    "print(np_ones, np_ones.dtype)\n",
    "print(np_eye, np_eye.dtype)\n",
    "print(np_random, np_random.dtype)"
   ]
  },
  {
   "cell_type": "code",
   "execution_count": null,
   "id": "8dd4d3d5",
   "metadata": {},
   "outputs": [
    {
     "data": {
      "text/plain": [
       "torch.Size([2, 3])"
      ]
     },
     "metadata": {},
     "output_type": "display_data"
    }
   ],
   "source": [
    "# Tensorのshapeを表示\n",
    "zeros_tensor.shape"
   ]
  },
  {
   "cell_type": "markdown",
   "id": "49491342",
   "metadata": {},
   "source": [
    "### Tensorの操作"
   ]
  },
  {
   "cell_type": "code",
   "execution_count": null,
   "id": "f26c19eb",
   "metadata": {},
   "outputs": [
    {
     "name": "stdout",
     "output_type": "stream",
     "text": [
      "tensor([[[0.2566, 0.7936, 0.9408, 0.1332],\n",
      "         [0.9346, 0.5936, 0.8694, 0.5677],\n",
      "         [0.7411, 0.4294, 0.8854, 0.5739]],\n",
      "\n",
      "        [[0.2666, 0.6274, 0.2696, 0.4414],\n",
      "         [0.2969, 0.8317, 0.1053, 0.2695],\n",
      "         [0.3588, 0.1994, 0.5472, 0.0062]]]) [[[0.96320061 0.29667264 0.55869546 0.90830344]\n",
      "  [0.85471293 0.90077511 0.64138294 0.16808875]\n",
      "  [0.99938275 0.12047033 0.35890465 0.47553223]]\n",
      "\n",
      " [[0.15832426 0.33934903 0.19910761 0.50171379]\n",
      "  [0.06330832 0.1433997  0.13685701 0.38169832]\n",
      "  [0.95003842 0.20035515 0.16449229 0.32894554]]]\n"
     ]
    }
   ],
   "source": [
    "# サンプルのTensorとNumpy Arrayを作成\n",
    "tensor_example = torch.rand((2, 3, 4))\n",
    "np_example = np.random.rand(2, 3, 4)\n",
    "print(tensor_example, np_example)"
   ]
  },
  {
   "cell_type": "code",
   "execution_count": 24,
   "id": "cfcaf3b6",
   "metadata": {},
   "outputs": [
    {
     "data": {
      "text/plain": [
       "torch.Size([2, 3, 4])"
      ]
     },
     "execution_count": 24,
     "metadata": {},
     "output_type": "execute_result"
    }
   ],
   "source": [
    "tensor_example.shape"
   ]
  },
  {
   "cell_type": "code",
   "execution_count": 25,
   "id": "631f8d81",
   "metadata": {},
   "outputs": [
    {
     "data": {
      "text/plain": [
       "(2, 3, 4)"
      ]
     },
     "execution_count": 25,
     "metadata": {},
     "output_type": "execute_result"
    }
   ],
   "source": [
    "np_example.shape"
   ]
  },
  {
   "cell_type": "code",
   "execution_count": null,
   "id": "191a07e9",
   "metadata": {},
   "outputs": [
    {
     "name": "stdout",
     "output_type": "stream",
     "text": [
      "Original shape of tensor: torch.Size([2, 3, 4])\n",
      "Permuted tensor: torch.Size([3, 2, 4])\n",
      "Transposed numpy array: (3, 2, 4)\n",
      "Original shape of tensor: torch.Size([2, 3, 4])\n",
      "Transposed tensor: torch.Size([3, 2, 4])\n"
     ]
    }
   ],
   "source": [
    "# 転置\n",
    "# torch.permute(tensor_example, (0, 1, 2))\n",
    "permuted_tensor = torch.permute(tensor_example, (1, 0, 2))\n",
    "transposed_np = np.transpose(np_example, (1, 0, 2))\n",
    "print(\"Original shape of tensor:\", tensor_example.shape)\n",
    "print(\"Permuted tensor:\", permuted_tensor.shape)\n",
    "print(\"Transposed numpy array:\", transposed_np.shape)\n",
    "\n",
    "# torch.transpose()は，二つの軸を入れ替えるだけ\n",
    "transposed_tensor = torch.transpose(tensor_example, 0, 1)\n",
    "print(\"Original shape of tensor:\", tensor_example.shape)\n",
    "print(\"Transposed tensor:\", transposed_tensor.shape)\n",
    "\n",
    "# 二次元(rankが2つのtensor)の場合は.T/.t()"
   ]
  },
  {
   "cell_type": "code",
   "execution_count": null,
   "id": "cfb67e79",
   "metadata": {},
   "outputs": [
    {
     "name": "stdout",
     "output_type": "stream",
     "text": [
      "Original shape of tensor: torch.Size([2, 3, 4])\n",
      "Reshaped tensor: torch.Size([6, 4])\n",
      "Reshaped numpy array: (6, 4)\n"
     ]
    }
   ],
   "source": [
    "# reshape\n",
    "reshaped_tensor = torch.reshape(tensor_example, (6, 4))\n",
    "reshaped_np = np.reshape(np_example, (6, 4))\n",
    "\n",
    "# 結果を表示\n",
    "print(\"Original shape of tensor:\", tensor_example.shape)\n",
    "print(\"Reshaped tensor:\", reshaped_tensor.shape)\n",
    "print(\"Reshaped numpy array:\", reshaped_np.shape)"
   ]
  },
  {
   "cell_type": "code",
   "execution_count": 31,
   "id": "f2ab5485",
   "metadata": {},
   "outputs": [
    {
     "name": "stdout",
     "output_type": "stream",
     "text": [
      "tensor([[0.0000, 0.0000, 0.0000, 0.0000],\n",
      "        [0.3904, 0.6009, 0.2566, 0.7936],\n",
      "        [0.9408, 0.1332, 0.9346, 0.5936],\n",
      "        [0.8694, 0.5677, 0.7411, 0.4294],\n",
      "        [0.8854, 0.5739, 0.2666, 0.6274],\n",
      "        [0.2696, 0.4414, 0.2969, 0.8317]])\n",
      "tensor([[[0.0000, 0.0000, 0.0000, 0.0000],\n",
      "         [0.3904, 0.6009, 0.2566, 0.7936],\n",
      "         [0.9408, 0.1332, 0.9346, 0.5936]],\n",
      "\n",
      "        [[0.8694, 0.5677, 0.7411, 0.4294],\n",
      "         [0.8854, 0.5739, 0.2666, 0.6274],\n",
      "         [0.2696, 0.4414, 0.2969, 0.8317]]])\n"
     ]
    }
   ],
   "source": [
    "# reshapeは変更元のメモリを使用している\n",
    "# tensorがメモリ上で連続的に挙動されていないとき,copyを返す\n",
    "reshaped_tensor[0] = 0\n",
    "print(reshaped_tensor)\n",
    "print(tensor_example)"
   ]
  },
  {
   "cell_type": "code",
   "execution_count": 32,
   "id": "aa140b04",
   "metadata": {},
   "outputs": [],
   "source": [
    "# メモリが連続でなければreshapeはcopyを返す\n",
    "x = torch.tensor([[1, 2], [3, 4], [5, 6]])\n",
    "y = x.T"
   ]
  },
  {
   "cell_type": "code",
   "execution_count": 33,
   "id": "f6665c9d",
   "metadata": {},
   "outputs": [
    {
     "data": {
      "text/plain": [
       "False"
      ]
     },
     "execution_count": 33,
     "metadata": {},
     "output_type": "execute_result"
    }
   ],
   "source": [
    "# 連続なメモリに保存されていない\n",
    "y.is_contiguous()"
   ]
  },
  {
   "cell_type": "code",
   "execution_count": 34,
   "id": "6df58d5a",
   "metadata": {},
   "outputs": [
    {
     "data": {
      "text/plain": [
       "True"
      ]
     },
     "execution_count": 34,
     "metadata": {},
     "output_type": "execute_result"
    }
   ],
   "source": [
    "x.is_contiguous()"
   ]
  },
  {
   "cell_type": "code",
   "execution_count": 35,
   "id": "c1f2f66c",
   "metadata": {},
   "outputs": [],
   "source": [
    "z = y.reshape(-1)\n",
    "# y.view(-1) -> Error\n",
    "# RuntimeError: view size is not compatible with input tensor's size and stride"
   ]
  },
  {
   "cell_type": "code",
   "execution_count": 36,
   "id": "2cb7516e",
   "metadata": {},
   "outputs": [
    {
     "name": "stdout",
     "output_type": "stream",
     "text": [
      "tensor([0, 3, 5, 2, 4, 6])\n",
      "tensor([[1, 3, 5],\n",
      "        [2, 4, 6]])\n"
     ]
    }
   ],
   "source": [
    "z[0] = 0\n",
    "print(z)\n",
    "print(y)"
   ]
  },
  {
   "cell_type": "code",
   "execution_count": 37,
   "id": "cb14da00",
   "metadata": {},
   "outputs": [
    {
     "name": "stdout",
     "output_type": "stream",
     "text": [
      "torch.Size([24])\n",
      "(24,)\n"
     ]
    }
   ],
   "source": [
    "# flatten\n",
    "flatten_tensor = torch.flatten(tensor_example)\n",
    "flatten_np = np_example.flatten()\n",
    "print(flatten_tensor.shape)\n",
    "print(flatten_np.shape)"
   ]
  },
  {
   "cell_type": "code",
   "execution_count": 40,
   "id": "deae4036",
   "metadata": {},
   "outputs": [
    {
     "name": "stdout",
     "output_type": "stream",
     "text": [
      "torch.Size([1, 3, 1])\n",
      "(1, 3, 1)\n"
     ]
    }
   ],
   "source": [
    "# squeeze\n",
    "tensor_example = torch.tensor([[[1], [2], [3]]])\n",
    "np_example = np.array([[[1], [2], [3]]])\n",
    "print(tensor_example.shape)\n",
    "print(np_example.shape)"
   ]
  },
  {
   "cell_type": "code",
   "execution_count": 41,
   "id": "8be1e053",
   "metadata": {},
   "outputs": [
    {
     "name": "stdout",
     "output_type": "stream",
     "text": [
      "torch.Size([3])\n",
      "(3,)\n"
     ]
    }
   ],
   "source": [
    "squeezed_tensor = torch.squeeze(tensor_example)\n",
    "squeezed_np = np.squeeze(np_example)\n",
    "print(squeezed_tensor.shape)\n",
    "print(squeezed_np.shape)"
   ]
  },
  {
   "cell_type": "code",
   "execution_count": 42,
   "id": "b7906787",
   "metadata": {},
   "outputs": [
    {
     "name": "stdout",
     "output_type": "stream",
     "text": [
      "torch.Size([1, 1, 3, 1])\n",
      "(1, 1, 3, 1)\n"
     ]
    }
   ],
   "source": [
    "# unsqueeze\n",
    "unsqueezed_tensor = torch.unsqueeze(tensor_example, 0)\n",
    "expand_dims_np = np.expand_dims(np_example, 0)\n",
    "print(unsqueezed_tensor.shape)\n",
    "print(expand_dims_np.shape)"
   ]
  },
  {
   "cell_type": "code",
   "execution_count": 43,
   "id": "239c3966",
   "metadata": {},
   "outputs": [
    {
     "data": {
      "text/plain": [
       "torch.Size([1, 1, 3, 1])"
      ]
     },
     "execution_count": 43,
     "metadata": {},
     "output_type": "execute_result"
    }
   ],
   "source": [
    "tensor_example[None, :, :, :].shape"
   ]
  },
  {
   "cell_type": "code",
   "execution_count": 46,
   "id": "41ae3ceb",
   "metadata": {},
   "outputs": [
    {
     "name": "stdout",
     "output_type": "stream",
     "text": [
      "tensor([[0.5779, 0.9040, 0.5547],\n",
      "        [0.3423, 0.6343, 0.3644]])\n",
      "[[0.35620019 0.78441007 0.48496449]\n",
      " [0.87258344 0.21588313 0.13858253]]\n"
     ]
    }
   ],
   "source": [
    "tensor_example = torch.rand((2, 3))\n",
    "np_example = np.random.rand(2, 3)\n",
    "print(tensor_example)\n",
    "print(np_example)"
   ]
  },
  {
   "cell_type": "markdown",
   "id": "dff4c5a3",
   "metadata": {},
   "source": [
    "## Tensorの便利関数"
   ]
  },
  {
   "cell_type": "code",
   "execution_count": null,
   "id": "4e132224",
   "metadata": {},
   "outputs": [
    {
     "name": "stdout",
     "output_type": "stream",
     "text": [
      "tensor([[0.9516, 0.0753, 0.8860],\n",
      "        [0.5832, 0.3376, 0.8090]])\n",
      "[[0.65065284 0.65310825 0.77100737]\n",
      " [0.67840555 0.81108503 0.05991867]]\n"
     ]
    }
   ],
   "source": [
    "# サンプルのTensorとNumpy Array作成\n",
    "tensor_example = torch.rand((2, 3))\n",
    "np_example = np.random.rand(2, 3)\n",
    "print(tensor_example)\n",
    "print(np_example)"
   ]
  },
  {
   "cell_type": "code",
   "execution_count": null,
   "id": "272cc3b3",
   "metadata": {},
   "outputs": [
    {
     "name": "stdout",
     "output_type": "stream",
     "text": [
      "Sum of tensor: tensor(3.6427)\n",
      "Sum of numpy array: 3.6241777105827175\n",
      "Mean of tensor: tensor(0.6071)\n",
      "Mean of numpy array: 0.6040296184304529\n",
      "Standard deviation of tensor: tensor(0.3444)\n",
      "Standard deviation of numpy array: 0.25064066143283414\n",
      "Square root of tensor: tensor([[0.9755, 0.2743, 0.9413],\n",
      "        [0.7637, 0.5811, 0.8994]])\n",
      "Square root of numpy array: [[0.80663055 0.80815113 0.87807025]\n",
      " [0.82365378 0.90060259 0.24478291]]\n"
     ]
    }
   ],
   "source": [
    "# 合計\n",
    "sum_tensor = torch.sum(tensor_example)\n",
    "sum_np = np.sum(np_example)\n",
    "\n",
    "# 平均\n",
    "mean_tensor = torch.mean(tensor_example)\n",
    "mean_np = np.mean(np_example)\n",
    "\n",
    "# 標準偏差\n",
    "std_tensor = torch.std(tensor_example)\n",
    "std_np = np.std(np_example)\n",
    "\n",
    "# 平方根\n",
    "sqrt_tensor = torch.sqrt(tensor_example)\n",
    "sqrt_np = np.sqrt(np_example)\n",
    "\n",
    "# 結果を表示\n",
    "print(\"Sum of tensor:\", sum_tensor)\n",
    "print(\"Sum of numpy array:\", sum_np)\n",
    "print(\"Mean of tensor:\", mean_tensor)\n",
    "print(\"Mean of numpy array:\", mean_np)\n",
    "print(\"Standard deviation of tensor:\", std_tensor)\n",
    "print(\"Standard deviation of numpy array:\", std_np)\n",
    "print(\"Square root of tensor:\", sqrt_tensor)\n",
    "print(\"Square root of numpy array:\", sqrt_np)"
   ]
  },
  {
   "cell_type": "markdown",
   "id": "d803bf28",
   "metadata": {},
   "source": [
    "## 行列演算"
   ]
  },
  {
   "cell_type": "markdown",
   "id": "44775459",
   "metadata": {},
   "source": [
    "#### 加減算+要素毎の乗除算"
   ]
  },
  {
   "cell_type": "code",
   "execution_count": null,
   "id": "d76f112c",
   "metadata": {},
   "outputs": [
    {
     "name": "stdout",
     "output_type": "stream",
     "text": [
      "tensor([[0.5779, 0.9040, 0.5547],\n",
      "        [0.3423, 0.6343, 0.3644],\n",
      "        [0.7104, 0.9464, 0.7890]])\n",
      "tensor([[0.2814, 0.7886, 0.5895],\n",
      "        [0.7539, 0.1952, 0.0050],\n",
      "        [0.3068, 0.1165, 0.9103]])\n"
     ]
    }
   ],
   "source": [
    "# 3x3のTensorを作成\n",
    "a = torch.rand((3, 3))\n",
    "b = torch.rand((3, 3))\n",
    "print(a)\n",
    "print(b)"
   ]
  },
  {
   "cell_type": "code",
   "execution_count": null,
   "id": "d2c5417c",
   "metadata": {},
   "outputs": [],
   "source": [
    "# 加減算および要素毎の剰余算\n",
    "add = a + b\n",
    "sub = a - b\n",
    "mul = a * b\n",
    "div = a / b"
   ]
  },
  {
   "cell_type": "code",
   "execution_count": null,
   "id": "fdd2d9bd",
   "metadata": {},
   "outputs": [],
   "source": [
    "# 行列の積\n",
    "mm = torch.mm(a, b)\n",
    "matmul = torch.matmul(a, b)\n",
    "at_op = a @ b\n",
    "print(mm)\n",
    "print(matmul)\n",
    "print(at_op)"
   ]
  },
  {
   "cell_type": "markdown",
   "id": "60f06cb8",
   "metadata": {},
   "source": [
    "### ブロードキャスティング"
   ]
  },
  {
   "cell_type": "code",
   "execution_count": 48,
   "id": "17dfffe1",
   "metadata": {},
   "outputs": [
    {
     "name": "stdout",
     "output_type": "stream",
     "text": [
      "tensor([[0.3068, 0.1165, 0.9103],\n",
      "        [0.6440, 0.7071, 0.6581],\n",
      "        [0.4913, 0.8913, 0.1447]])\n",
      "tensor([[5.3068, 5.1165, 5.9103],\n",
      "        [5.6440, 5.7071, 5.6581],\n",
      "        [5.4913, 5.8913, 5.1447]])\n"
     ]
    }
   ],
   "source": [
    "# (3, 3)とscalarの演算\n",
    "a = torch.rand(3, 3)\n",
    "scaler = 5\n",
    "print(a)\n",
    "print(a + 5)"
   ]
  },
  {
   "cell_type": "code",
   "execution_count": 49,
   "id": "417eb70b",
   "metadata": {},
   "outputs": [
    {
     "data": {
      "text/plain": [
       "tensor([[0.5315, 0.1587, 0.6542]])"
      ]
     },
     "execution_count": 49,
     "metadata": {},
     "output_type": "execute_result"
    }
   ],
   "source": [
    "# (3, 3)と(1, 3)の演算\n",
    "b = torch.rand(1, 3)\n",
    "b"
   ]
  },
  {
   "cell_type": "code",
   "execution_count": 50,
   "id": "2d9cdd1c",
   "metadata": {},
   "outputs": [
    {
     "data": {
      "text/plain": [
       "tensor([[0.8383, 0.2752, 1.5644],\n",
       "        [1.1755, 0.8658, 1.3123],\n",
       "        [1.0228, 1.0500, 0.7989]])"
      ]
     },
     "execution_count": 50,
     "metadata": {},
     "output_type": "execute_result"
    }
   ],
   "source": [
    "a + b"
   ]
  },
  {
   "cell_type": "code",
   "execution_count": null,
   "id": "6f07459f",
   "metadata": {},
   "outputs": [
    {
     "name": "stdout",
     "output_type": "stream",
     "text": [
      "torch.Size([32, 128, 128, 3])\n"
     ]
    }
   ],
   "source": [
    "# (32, 128, 128, 3)と(128, 128, 3)の演算\n",
    "c = torch.rand((32, 128, 128, 3))\n",
    "d = torch.rand((128, 128, 3))\n",
    "result3 = c + d\n",
    "print(result3.shape)"
   ]
  },
  {
   "cell_type": "code",
   "execution_count": null,
   "id": "9e5d072d",
   "metadata": {},
   "outputs": [],
   "source": [
    "# (32, 128, 128, 3)と(128, 128, 6)の演算は形状が不一致なためエラー\n",
    "c = torch.rand((32, 128, 128, 3))\n",
    "d = torch.rand((128, 128, 6))\n",
    "# 以下はエラー\n",
    "# result3 = c + d \n",
    "# print(result3.shape)"
   ]
  },
  {
   "cell_type": "code",
   "execution_count": null,
   "id": "ef78efca",
   "metadata": {},
   "outputs": [
    {
     "name": "stdout",
     "output_type": "stream",
     "text": [
      "torch.Size([8, 128, 128, 3])\n"
     ]
    }
   ],
   "source": [
    "# (1, 128, 128, 3)と(8, 128, 128, 1)の演算\n",
    "e = torch.rand((1, 128, 128, 3))\n",
    "f = torch.rand((8, 128, 128, 1))\n",
    "result4 = e + f\n",
    "print(result4.shape)"
   ]
  },
  {
   "cell_type": "code",
   "execution_count": null,
   "id": "2524220e",
   "metadata": {},
   "outputs": [],
   "source": []
  },
  {
   "cell_type": "code",
   "execution_count": null,
   "id": "f75d6043",
   "metadata": {},
   "outputs": [],
   "source": []
  },
  {
   "cell_type": "code",
   "execution_count": null,
   "id": "7526995e",
   "metadata": {},
   "outputs": [],
   "source": []
  },
  {
   "cell_type": "code",
   "execution_count": null,
   "id": "90071348",
   "metadata": {},
   "outputs": [],
   "source": []
  },
  {
   "cell_type": "code",
   "execution_count": null,
   "id": "755918be",
   "metadata": {},
   "outputs": [],
   "source": []
  },
  {
   "cell_type": "code",
   "execution_count": null,
   "id": "dd48ad7c",
   "metadata": {},
   "outputs": [],
   "source": []
  },
  {
   "cell_type": "code",
   "execution_count": null,
   "id": "410e8471",
   "metadata": {},
   "outputs": [],
   "source": []
  },
  {
   "cell_type": "code",
   "execution_count": null,
   "id": "2812ff79",
   "metadata": {},
   "outputs": [],
   "source": []
  },
  {
   "cell_type": "code",
   "execution_count": null,
   "id": "09b32458",
   "metadata": {},
   "outputs": [],
   "source": []
  },
  {
   "cell_type": "code",
   "execution_count": null,
   "id": "f2d32cb4",
   "metadata": {},
   "outputs": [],
   "source": []
  }
 ],
 "metadata": {
  "kernelspec": {
   "display_name": "Python 3 (ipykernel)",
   "language": "python",
   "name": "python3"
  },
  "language_info": {
   "codemirror_mode": {
    "name": "ipython",
    "version": 3
   },
   "file_extension": ".py",
   "mimetype": "text/x-python",
   "name": "python",
   "nbconvert_exporter": "python",
   "pygments_lexer": "ipython3",
   "version": "3.8.18"
  }
 },
 "nbformat": 4,
 "nbformat_minor": 5
}
