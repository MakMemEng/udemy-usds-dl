{
 "cells": [
  {
   "cell_type": "markdown",
   "id": "0385a524-46ea-40d2-8e0f-7d6931bd6e20",
   "metadata": {},
   "source": [
    "## Autograd"
   ]
  },
  {
   "cell_type": "code",
   "execution_count": 1,
   "id": "f9f48534-73d0-4a4c-8c47-94ce23cc3550",
   "metadata": {},
   "outputs": [],
   "source": [
    "import torch"
   ]
  },
  {
   "cell_type": "markdown",
   "id": "1bae25de-3705-4738-bc68-39a8f37977aa",
   "metadata": {},
   "source": [
    "### Autogradの基本"
   ]
  },
  {
   "cell_type": "code",
   "execution_count": 2,
   "id": "f5fdb545-dc6e-4e24-b8c8-df2d26f1c467",
   "metadata": {},
   "outputs": [
    {
     "name": "stdout",
     "output_type": "stream",
     "text": [
      "dz/dx: tensor(1.5000)\n",
      "dz/dy: tensor(-0.2968)\n"
     ]
    }
   ],
   "source": [
    "# xとyの値を設定し、requires_grad=Trueで微分可能にする\n",
    "x = torch.tensor(2., requires_grad=True)\n",
    "y = torch.tensor(3., requires_grad=True)\n",
    "\n",
    "z = y * torch.log(x) + torch.sin(y)\n",
    "\n",
    "# zに対して微分を計算\n",
    "z.backward()\n",
    "\n",
    "# 偏微分 dz/dy と dz/dx を取得\n",
    "dz_dx = x.grad\n",
    "dz_dy = y.grad\n",
    "\n",
    "print(\"dz/dx:\", dz_dx) # y/xと同じ\n",
    "print(\"dz/dy:\", dz_dy) # torch.log(x) + torch.cos(y)と同じ"
   ]
  },
  {
   "cell_type": "markdown",
   "id": "09c27a75-94be-4e82-bc1f-e38bbd384194",
   "metadata": {},
   "source": [
    "### 中間ノードの勾配"
   ]
  },
  {
   "cell_type": "code",
   "execution_count": 3,
   "id": "cbbb3bc4-2695-4e89-9c51-ae57613df410",
   "metadata": {},
   "outputs": [
    {
     "name": "stdout",
     "output_type": "stream",
     "text": [
      "df/dx: 10.0\n",
      "df/dy: 10.0\n",
      "df/d(sum_xy): 10.0\n"
     ]
    }
   ],
   "source": [
    "# 入力変数\n",
    "x = torch.tensor(2., requires_grad=True)\n",
    "y = torch.tensor(3., requires_grad=True)\n",
    "\n",
    "# 中間ノード（合計）\n",
    "sum_xy = x + y\n",
    "sum_xy.retain_grad()  # この中間ノードの勾配を保存するためにretain_grad()を使用\n",
    "\n",
    "# 出力関数\n",
    "z = sum_xy ** 2\n",
    "\n",
    "# 勾配を計算\n",
    "z.backward()\n",
    "\n",
    "# 各変数の勾配を表示\n",
    "print(\"df/dx:\", x.grad.item())\n",
    "print(\"df/dy:\", y.grad.item())\n",
    "print(\"df/d(sum_xy):\", sum_xy.grad.item())  # 中間ノードの勾配"
   ]
  },
  {
   "cell_type": "markdown",
   "id": "01815b2f-46f7-4b7d-bb56-97c6a031025c",
   "metadata": {},
   "source": [
    "### with torch.no_grad()"
   ]
  },
  {
   "cell_type": "code",
   "execution_count": 4,
   "id": "5a947cce-a29b-4806-9b0a-43046413be59",
   "metadata": {},
   "outputs": [
    {
     "name": "stdout",
     "output_type": "stream",
     "text": [
      "tensor(-0.2968)\n"
     ]
    }
   ],
   "source": [
    "x = torch.tensor(2., requires_grad=True)\n",
    "y = torch.tensor(3., requires_grad=True)\n",
    "\n",
    "with torch.no_grad():\n",
    "    z1 = y * torch.log(x) + torch.sin(y)\n",
    "\n",
    "z2 = y * torch.log(x) + torch.sin(y)\n",
    "\n",
    "# 逆伝播\n",
    "# 以下はエラー．with torch.no_grad()内の計算では勾配は保持されない\n",
    "# z1.backward()\n",
    "z2.backward()\n",
    "\n",
    "# 勾配が計算されていることを確認\n",
    "print(y.grad)"
   ]
  }
 ],
 "metadata": {
  "kernelspec": {
   "display_name": "Python 3 (ipykernel)",
   "language": "python",
   "name": "python3"
  },
  "language_info": {
   "codemirror_mode": {
    "name": "ipython",
    "version": 3
   },
   "file_extension": ".py",
   "mimetype": "text/x-python",
   "name": "python",
   "nbconvert_exporter": "python",
   "pygments_lexer": "ipython3",
   "version": "3.8.16"
  }
 },
 "nbformat": 4,
 "nbformat_minor": 5
}
